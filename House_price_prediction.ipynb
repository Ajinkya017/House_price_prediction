{
  "nbformat": 4,
  "nbformat_minor": 0,
  "metadata": {
    "colab": {
      "name": "House_price prediction.ipynb",
      "provenance": []
    },
    "kernelspec": {
      "name": "python3",
      "display_name": "Python 3"
    },
    "language_info": {
      "name": "python"
    }
  },
  "cells": [
    {
      "cell_type": "code",
      "source": [
        "import numpy as np\n",
        "import pandas as pd\n",
        "import matplotlib.pyplot as plt\n",
        "import seaborn as sns\n",
        "\n",
        "import warnings\n",
        "warnings.simplefilter(action='ignore', category=FutureWarning)\n",
        "\n",
        "%matplotlib inline\n",
        "sns.set_style('darkgrid')"
      ],
      "metadata": {
        "id": "P12UszPewNHe"
      },
      "execution_count": 192,
      "outputs": []
    },
    {
      "cell_type": "code",
      "source": [
        "df_train = pd.read_csv(\"/content/train.csv\", index_col='Id')\n",
        "df_test = pd.read_csv(\"/content/sample_submission.csv\", usecols=[0,1])"
      ],
      "metadata": {
        "id": "2smq2zoAyK96"
      },
      "execution_count": 193,
      "outputs": []
    },
    {
      "cell_type": "code",
      "source": [
        "df = pd.merge(df_train, df_test, on=\"Id\")\n",
        "df.head()"
      ],
      "metadata": {
        "colab": {
          "base_uri": "https://localhost:8080/",
          "height": 299
        },
        "id": "vB1K4zdCzB_U",
        "outputId": "cc4bb924-25d2-4dbf-80b0-1d8bd77342ed"
      },
      "execution_count": 194,
      "outputs": [
        {
          "output_type": "execute_result",
          "data": {
            "text/plain": [
              "   Id  MSSubClass MSZoning  LotFrontage  LotArea Street Alley LotShape  \\\n",
              "0   1          60       RL         65.0     8450   Pave   NaN      Reg   \n",
              "1   2          20       RL         80.0     9600   Pave   NaN      Reg   \n",
              "2   3          60       RL         68.0    11250   Pave   NaN      IR1   \n",
              "3   4          70       RL         60.0     9550   Pave   NaN      IR1   \n",
              "4   5          60       RL         84.0    14260   Pave   NaN      IR1   \n",
              "\n",
              "  LandContour Utilities  ... PoolArea PoolQC Fence MiscFeature MiscVal MoSold  \\\n",
              "0         Lvl    AllPub  ...        0    NaN   NaN         NaN       0      2   \n",
              "1         Lvl    AllPub  ...        0    NaN   NaN         NaN       0      5   \n",
              "2         Lvl    AllPub  ...        0    NaN   NaN         NaN       0      9   \n",
              "3         Lvl    AllPub  ...        0    NaN   NaN         NaN       0      2   \n",
              "4         Lvl    AllPub  ...        0    NaN   NaN         NaN       0     12   \n",
              "\n",
              "  YrSold  SaleType  SaleCondition  Actual_SalePrice  \n",
              "0   2008        WD         Normal            208500  \n",
              "1   2007        WD         Normal            181500  \n",
              "2   2008        WD         Normal            223500  \n",
              "3   2006        WD        Abnorml            140000  \n",
              "4   2008        WD         Normal            250000  \n",
              "\n",
              "[5 rows x 81 columns]"
            ],
            "text/html": [
              "\n",
              "  <div id=\"df-588439d1-1bdf-443f-8d91-5c513e4a58db\">\n",
              "    <div class=\"colab-df-container\">\n",
              "      <div>\n",
              "<style scoped>\n",
              "    .dataframe tbody tr th:only-of-type {\n",
              "        vertical-align: middle;\n",
              "    }\n",
              "\n",
              "    .dataframe tbody tr th {\n",
              "        vertical-align: top;\n",
              "    }\n",
              "\n",
              "    .dataframe thead th {\n",
              "        text-align: right;\n",
              "    }\n",
              "</style>\n",
              "<table border=\"1\" class=\"dataframe\">\n",
              "  <thead>\n",
              "    <tr style=\"text-align: right;\">\n",
              "      <th></th>\n",
              "      <th>Id</th>\n",
              "      <th>MSSubClass</th>\n",
              "      <th>MSZoning</th>\n",
              "      <th>LotFrontage</th>\n",
              "      <th>LotArea</th>\n",
              "      <th>Street</th>\n",
              "      <th>Alley</th>\n",
              "      <th>LotShape</th>\n",
              "      <th>LandContour</th>\n",
              "      <th>Utilities</th>\n",
              "      <th>...</th>\n",
              "      <th>PoolArea</th>\n",
              "      <th>PoolQC</th>\n",
              "      <th>Fence</th>\n",
              "      <th>MiscFeature</th>\n",
              "      <th>MiscVal</th>\n",
              "      <th>MoSold</th>\n",
              "      <th>YrSold</th>\n",
              "      <th>SaleType</th>\n",
              "      <th>SaleCondition</th>\n",
              "      <th>Actual_SalePrice</th>\n",
              "    </tr>\n",
              "  </thead>\n",
              "  <tbody>\n",
              "    <tr>\n",
              "      <th>0</th>\n",
              "      <td>1</td>\n",
              "      <td>60</td>\n",
              "      <td>RL</td>\n",
              "      <td>65.0</td>\n",
              "      <td>8450</td>\n",
              "      <td>Pave</td>\n",
              "      <td>NaN</td>\n",
              "      <td>Reg</td>\n",
              "      <td>Lvl</td>\n",
              "      <td>AllPub</td>\n",
              "      <td>...</td>\n",
              "      <td>0</td>\n",
              "      <td>NaN</td>\n",
              "      <td>NaN</td>\n",
              "      <td>NaN</td>\n",
              "      <td>0</td>\n",
              "      <td>2</td>\n",
              "      <td>2008</td>\n",
              "      <td>WD</td>\n",
              "      <td>Normal</td>\n",
              "      <td>208500</td>\n",
              "    </tr>\n",
              "    <tr>\n",
              "      <th>1</th>\n",
              "      <td>2</td>\n",
              "      <td>20</td>\n",
              "      <td>RL</td>\n",
              "      <td>80.0</td>\n",
              "      <td>9600</td>\n",
              "      <td>Pave</td>\n",
              "      <td>NaN</td>\n",
              "      <td>Reg</td>\n",
              "      <td>Lvl</td>\n",
              "      <td>AllPub</td>\n",
              "      <td>...</td>\n",
              "      <td>0</td>\n",
              "      <td>NaN</td>\n",
              "      <td>NaN</td>\n",
              "      <td>NaN</td>\n",
              "      <td>0</td>\n",
              "      <td>5</td>\n",
              "      <td>2007</td>\n",
              "      <td>WD</td>\n",
              "      <td>Normal</td>\n",
              "      <td>181500</td>\n",
              "    </tr>\n",
              "    <tr>\n",
              "      <th>2</th>\n",
              "      <td>3</td>\n",
              "      <td>60</td>\n",
              "      <td>RL</td>\n",
              "      <td>68.0</td>\n",
              "      <td>11250</td>\n",
              "      <td>Pave</td>\n",
              "      <td>NaN</td>\n",
              "      <td>IR1</td>\n",
              "      <td>Lvl</td>\n",
              "      <td>AllPub</td>\n",
              "      <td>...</td>\n",
              "      <td>0</td>\n",
              "      <td>NaN</td>\n",
              "      <td>NaN</td>\n",
              "      <td>NaN</td>\n",
              "      <td>0</td>\n",
              "      <td>9</td>\n",
              "      <td>2008</td>\n",
              "      <td>WD</td>\n",
              "      <td>Normal</td>\n",
              "      <td>223500</td>\n",
              "    </tr>\n",
              "    <tr>\n",
              "      <th>3</th>\n",
              "      <td>4</td>\n",
              "      <td>70</td>\n",
              "      <td>RL</td>\n",
              "      <td>60.0</td>\n",
              "      <td>9550</td>\n",
              "      <td>Pave</td>\n",
              "      <td>NaN</td>\n",
              "      <td>IR1</td>\n",
              "      <td>Lvl</td>\n",
              "      <td>AllPub</td>\n",
              "      <td>...</td>\n",
              "      <td>0</td>\n",
              "      <td>NaN</td>\n",
              "      <td>NaN</td>\n",
              "      <td>NaN</td>\n",
              "      <td>0</td>\n",
              "      <td>2</td>\n",
              "      <td>2006</td>\n",
              "      <td>WD</td>\n",
              "      <td>Abnorml</td>\n",
              "      <td>140000</td>\n",
              "    </tr>\n",
              "    <tr>\n",
              "      <th>4</th>\n",
              "      <td>5</td>\n",
              "      <td>60</td>\n",
              "      <td>RL</td>\n",
              "      <td>84.0</td>\n",
              "      <td>14260</td>\n",
              "      <td>Pave</td>\n",
              "      <td>NaN</td>\n",
              "      <td>IR1</td>\n",
              "      <td>Lvl</td>\n",
              "      <td>AllPub</td>\n",
              "      <td>...</td>\n",
              "      <td>0</td>\n",
              "      <td>NaN</td>\n",
              "      <td>NaN</td>\n",
              "      <td>NaN</td>\n",
              "      <td>0</td>\n",
              "      <td>12</td>\n",
              "      <td>2008</td>\n",
              "      <td>WD</td>\n",
              "      <td>Normal</td>\n",
              "      <td>250000</td>\n",
              "    </tr>\n",
              "  </tbody>\n",
              "</table>\n",
              "<p>5 rows × 81 columns</p>\n",
              "</div>\n",
              "      <button class=\"colab-df-convert\" onclick=\"convertToInteractive('df-588439d1-1bdf-443f-8d91-5c513e4a58db')\"\n",
              "              title=\"Convert this dataframe to an interactive table.\"\n",
              "              style=\"display:none;\">\n",
              "        \n",
              "  <svg xmlns=\"http://www.w3.org/2000/svg\" height=\"24px\"viewBox=\"0 0 24 24\"\n",
              "       width=\"24px\">\n",
              "    <path d=\"M0 0h24v24H0V0z\" fill=\"none\"/>\n",
              "    <path d=\"M18.56 5.44l.94 2.06.94-2.06 2.06-.94-2.06-.94-.94-2.06-.94 2.06-2.06.94zm-11 1L8.5 8.5l.94-2.06 2.06-.94-2.06-.94L8.5 2.5l-.94 2.06-2.06.94zm10 10l.94 2.06.94-2.06 2.06-.94-2.06-.94-.94-2.06-.94 2.06-2.06.94z\"/><path d=\"M17.41 7.96l-1.37-1.37c-.4-.4-.92-.59-1.43-.59-.52 0-1.04.2-1.43.59L10.3 9.45l-7.72 7.72c-.78.78-.78 2.05 0 2.83L4 21.41c.39.39.9.59 1.41.59.51 0 1.02-.2 1.41-.59l7.78-7.78 2.81-2.81c.8-.78.8-2.07 0-2.86zM5.41 20L4 18.59l7.72-7.72 1.47 1.35L5.41 20z\"/>\n",
              "  </svg>\n",
              "      </button>\n",
              "      \n",
              "  <style>\n",
              "    .colab-df-container {\n",
              "      display:flex;\n",
              "      flex-wrap:wrap;\n",
              "      gap: 12px;\n",
              "    }\n",
              "\n",
              "    .colab-df-convert {\n",
              "      background-color: #E8F0FE;\n",
              "      border: none;\n",
              "      border-radius: 50%;\n",
              "      cursor: pointer;\n",
              "      display: none;\n",
              "      fill: #1967D2;\n",
              "      height: 32px;\n",
              "      padding: 0 0 0 0;\n",
              "      width: 32px;\n",
              "    }\n",
              "\n",
              "    .colab-df-convert:hover {\n",
              "      background-color: #E2EBFA;\n",
              "      box-shadow: 0px 1px 2px rgba(60, 64, 67, 0.3), 0px 1px 3px 1px rgba(60, 64, 67, 0.15);\n",
              "      fill: #174EA6;\n",
              "    }\n",
              "\n",
              "    [theme=dark] .colab-df-convert {\n",
              "      background-color: #3B4455;\n",
              "      fill: #D2E3FC;\n",
              "    }\n",
              "\n",
              "    [theme=dark] .colab-df-convert:hover {\n",
              "      background-color: #434B5C;\n",
              "      box-shadow: 0px 1px 3px 1px rgba(0, 0, 0, 0.15);\n",
              "      filter: drop-shadow(0px 1px 2px rgba(0, 0, 0, 0.3));\n",
              "      fill: #FFFFFF;\n",
              "    }\n",
              "  </style>\n",
              "\n",
              "      <script>\n",
              "        const buttonEl =\n",
              "          document.querySelector('#df-588439d1-1bdf-443f-8d91-5c513e4a58db button.colab-df-convert');\n",
              "        buttonEl.style.display =\n",
              "          google.colab.kernel.accessAllowed ? 'block' : 'none';\n",
              "\n",
              "        async function convertToInteractive(key) {\n",
              "          const element = document.querySelector('#df-588439d1-1bdf-443f-8d91-5c513e4a58db');\n",
              "          const dataTable =\n",
              "            await google.colab.kernel.invokeFunction('convertToInteractive',\n",
              "                                                     [key], {});\n",
              "          if (!dataTable) return;\n",
              "\n",
              "          const docLinkHtml = 'Like what you see? Visit the ' +\n",
              "            '<a target=\"_blank\" href=https://colab.research.google.com/notebooks/data_table.ipynb>data table notebook</a>'\n",
              "            + ' to learn more about interactive tables.';\n",
              "          element.innerHTML = '';\n",
              "          dataTable['output_type'] = 'display_data';\n",
              "          await google.colab.output.renderOutput(dataTable, element);\n",
              "          const docLink = document.createElement('div');\n",
              "          docLink.innerHTML = docLinkHtml;\n",
              "          element.appendChild(docLink);\n",
              "        }\n",
              "      </script>\n",
              "    </div>\n",
              "  </div>\n",
              "  "
            ]
          },
          "metadata": {},
          "execution_count": 194
        }
      ]
    },
    {
      "cell_type": "code",
      "source": [
        "df_test.shape"
      ],
      "metadata": {
        "colab": {
          "base_uri": "https://localhost:8080/"
        },
        "id": "o6k-19IYEXA2",
        "outputId": "74ea21bc-4729-4b30-a96f-d6989490aff0"
      },
      "execution_count": 195,
      "outputs": [
        {
          "output_type": "execute_result",
          "data": {
            "text/plain": [
              "(1460, 2)"
            ]
          },
          "metadata": {},
          "execution_count": 195
        }
      ]
    },
    {
      "cell_type": "code",
      "source": [
        "df.info()"
      ],
      "metadata": {
        "colab": {
          "base_uri": "https://localhost:8080/"
        },
        "id": "dDEmP_OUzH8B",
        "outputId": "253be554-9103-444d-a4fc-aba719c9ee7b"
      },
      "execution_count": 196,
      "outputs": [
        {
          "output_type": "stream",
          "name": "stdout",
          "text": [
            "<class 'pandas.core.frame.DataFrame'>\n",
            "Int64Index: 1460 entries, 0 to 1459\n",
            "Data columns (total 81 columns):\n",
            " #   Column            Non-Null Count  Dtype  \n",
            "---  ------            --------------  -----  \n",
            " 0   Id                1460 non-null   int64  \n",
            " 1   MSSubClass        1460 non-null   int64  \n",
            " 2   MSZoning          1460 non-null   object \n",
            " 3   LotFrontage       1201 non-null   float64\n",
            " 4   LotArea           1460 non-null   int64  \n",
            " 5   Street            1460 non-null   object \n",
            " 6   Alley             91 non-null     object \n",
            " 7   LotShape          1460 non-null   object \n",
            " 8   LandContour       1460 non-null   object \n",
            " 9   Utilities         1460 non-null   object \n",
            " 10  LotConfig         1460 non-null   object \n",
            " 11  LandSlope         1460 non-null   object \n",
            " 12  Neighborhood      1460 non-null   object \n",
            " 13  Condition1        1460 non-null   object \n",
            " 14  Condition2        1460 non-null   object \n",
            " 15  BldgType          1460 non-null   object \n",
            " 16  HouseStyle        1460 non-null   object \n",
            " 17  OverallQual       1460 non-null   int64  \n",
            " 18  OverallCond       1460 non-null   int64  \n",
            " 19  YearBuilt         1460 non-null   int64  \n",
            " 20  YearRemodAdd      1460 non-null   int64  \n",
            " 21  RoofStyle         1460 non-null   object \n",
            " 22  RoofMatl          1460 non-null   object \n",
            " 23  Exterior1st       1460 non-null   object \n",
            " 24  Exterior2nd       1460 non-null   object \n",
            " 25  MasVnrType        1452 non-null   object \n",
            " 26  MasVnrArea        1452 non-null   float64\n",
            " 27  ExterQual         1460 non-null   object \n",
            " 28  ExterCond         1460 non-null   object \n",
            " 29  Foundation        1460 non-null   object \n",
            " 30  BsmtQual          1423 non-null   object \n",
            " 31  BsmtCond          1423 non-null   object \n",
            " 32  BsmtExposure      1422 non-null   object \n",
            " 33  BsmtFinType1      1423 non-null   object \n",
            " 34  BsmtFinSF1        1460 non-null   int64  \n",
            " 35  BsmtFinType2      1422 non-null   object \n",
            " 36  BsmtFinSF2        1460 non-null   int64  \n",
            " 37  BsmtUnfSF         1460 non-null   int64  \n",
            " 38  TotalBsmtSF       1460 non-null   int64  \n",
            " 39  Heating           1460 non-null   object \n",
            " 40  HeatingQC         1460 non-null   object \n",
            " 41  CentralAir        1460 non-null   object \n",
            " 42  Electrical        1459 non-null   object \n",
            " 43  1stFlrSF          1460 non-null   int64  \n",
            " 44  2ndFlrSF          1460 non-null   int64  \n",
            " 45  LowQualFinSF      1460 non-null   int64  \n",
            " 46  GrLivArea         1460 non-null   int64  \n",
            " 47  BsmtFullBath      1460 non-null   int64  \n",
            " 48  BsmtHalfBath      1460 non-null   int64  \n",
            " 49  FullBath          1460 non-null   int64  \n",
            " 50  HalfBath          1460 non-null   int64  \n",
            " 51  BedroomAbvGr      1460 non-null   int64  \n",
            " 52  KitchenAbvGr      1460 non-null   int64  \n",
            " 53  KitchenQual       1460 non-null   object \n",
            " 54  TotRmsAbvGrd      1460 non-null   int64  \n",
            " 55  Functional        1460 non-null   object \n",
            " 56  Fireplaces        1460 non-null   int64  \n",
            " 57  FireplaceQu       770 non-null    object \n",
            " 58  GarageType        1379 non-null   object \n",
            " 59  GarageYrBlt       1379 non-null   float64\n",
            " 60  GarageFinish      1379 non-null   object \n",
            " 61  GarageCars        1460 non-null   int64  \n",
            " 62  GarageArea        1460 non-null   int64  \n",
            " 63  GarageQual        1379 non-null   object \n",
            " 64  GarageCond        1379 non-null   object \n",
            " 65  PavedDrive        1460 non-null   object \n",
            " 66  WoodDeckSF        1460 non-null   int64  \n",
            " 67  OpenPorchSF       1460 non-null   int64  \n",
            " 68  EnclosedPorch     1460 non-null   int64  \n",
            " 69  3SsnPorch         1460 non-null   int64  \n",
            " 70  ScreenPorch       1460 non-null   int64  \n",
            " 71  PoolArea          1460 non-null   int64  \n",
            " 72  PoolQC            7 non-null      object \n",
            " 73  Fence             281 non-null    object \n",
            " 74  MiscFeature       54 non-null     object \n",
            " 75  MiscVal           1460 non-null   int64  \n",
            " 76  MoSold            1460 non-null   int64  \n",
            " 77  YrSold            1460 non-null   int64  \n",
            " 78  SaleType          1460 non-null   object \n",
            " 79  SaleCondition     1460 non-null   object \n",
            " 80  Actual_SalePrice  1460 non-null   int64  \n",
            "dtypes: float64(3), int64(35), object(43)\n",
            "memory usage: 935.3+ KB\n"
          ]
        }
      ]
    },
    {
      "cell_type": "code",
      "source": [
        "print(\"Train data's size: \", df_train.shape)\n",
        "print(\"Test data's size: \", df_test.shape)\n",
        "print(\"Concanated Data size:\", df.shape)"
      ],
      "metadata": {
        "colab": {
          "base_uri": "https://localhost:8080/"
        },
        "id": "ePUL0YoozYa7",
        "outputId": "87cdb40a-6a5f-4e46-8aee-8f5d8bf9e961"
      },
      "execution_count": 197,
      "outputs": [
        {
          "output_type": "stream",
          "name": "stdout",
          "text": [
            "Train data's size:  (1460, 79)\n",
            "Test data's size:  (1460, 2)\n",
            "Concanated Data size: (1460, 81)\n"
          ]
        }
      ]
    },
    {
      "cell_type": "code",
      "source": [
        "numCols = list(df_train.select_dtypes(exclude='object').columns)\n",
        "print(f\"There are {len(numCols)} numerical features:\\n\", numCols)"
      ],
      "metadata": {
        "colab": {
          "base_uri": "https://localhost:8080/"
        },
        "id": "-lySg64E0PFz",
        "outputId": "def7eb18-0aff-4720-b914-8b6e5df70f7d"
      },
      "execution_count": 198,
      "outputs": [
        {
          "output_type": "stream",
          "name": "stdout",
          "text": [
            "There are 36 numerical features:\n",
            " ['MSSubClass', 'LotFrontage', 'LotArea', 'OverallQual', 'OverallCond', 'YearBuilt', 'YearRemodAdd', 'MasVnrArea', 'BsmtFinSF1', 'BsmtFinSF2', 'BsmtUnfSF', 'TotalBsmtSF', '1stFlrSF', '2ndFlrSF', 'LowQualFinSF', 'GrLivArea', 'BsmtFullBath', 'BsmtHalfBath', 'FullBath', 'HalfBath', 'BedroomAbvGr', 'KitchenAbvGr', 'TotRmsAbvGrd', 'Fireplaces', 'GarageYrBlt', 'GarageCars', 'GarageArea', 'WoodDeckSF', 'OpenPorchSF', 'EnclosedPorch', '3SsnPorch', 'ScreenPorch', 'PoolArea', 'MiscVal', 'MoSold', 'YrSold']\n"
          ]
        }
      ]
    },
    {
      "cell_type": "code",
      "source": [
        "catCols = list(df_train.select_dtypes(include='object').columns)\n",
        "print(f\"There are {len(catCols)} numerical features:\\n\", catCols)"
      ],
      "metadata": {
        "colab": {
          "base_uri": "https://localhost:8080/"
        },
        "id": "6ScUs3Yj4MLQ",
        "outputId": "de262462-9da8-4e5d-d97c-49cb11d55acf"
      },
      "execution_count": 199,
      "outputs": [
        {
          "output_type": "stream",
          "name": "stdout",
          "text": [
            "There are 43 numerical features:\n",
            " ['MSZoning', 'Street', 'Alley', 'LotShape', 'LandContour', 'Utilities', 'LotConfig', 'LandSlope', 'Neighborhood', 'Condition1', 'Condition2', 'BldgType', 'HouseStyle', 'RoofStyle', 'RoofMatl', 'Exterior1st', 'Exterior2nd', 'MasVnrType', 'ExterQual', 'ExterCond', 'Foundation', 'BsmtQual', 'BsmtCond', 'BsmtExposure', 'BsmtFinType1', 'BsmtFinType2', 'Heating', 'HeatingQC', 'CentralAir', 'Electrical', 'KitchenQual', 'Functional', 'FireplaceQu', 'GarageType', 'GarageFinish', 'GarageQual', 'GarageCond', 'PavedDrive', 'PoolQC', 'Fence', 'MiscFeature', 'SaleType', 'SaleCondition']\n"
          ]
        }
      ]
    },
    {
      "cell_type": "code",
      "source": [
        "#Top 10 numerical variables highly correlated with SalePrice:\n",
        "\n",
        "corr_mat = df.corr().Actual_SalePrice.sort_values(ascending=False)\n",
        "corr_mat.head(11)"
      ],
      "metadata": {
        "colab": {
          "base_uri": "https://localhost:8080/"
        },
        "id": "m8QyTNcy4RSB",
        "outputId": "542e03cd-4e49-4ea5-f3ac-cbb1342ed5ae"
      },
      "execution_count": 200,
      "outputs": [
        {
          "output_type": "execute_result",
          "data": {
            "text/plain": [
              "Actual_SalePrice    1.000000\n",
              "OverallQual         0.790982\n",
              "GrLivArea           0.708624\n",
              "GarageCars          0.640409\n",
              "GarageArea          0.623431\n",
              "TotalBsmtSF         0.613581\n",
              "1stFlrSF            0.605852\n",
              "FullBath            0.560664\n",
              "TotRmsAbvGrd        0.533723\n",
              "YearBuilt           0.522897\n",
              "YearRemodAdd        0.507101\n",
              "Name: Actual_SalePrice, dtype: float64"
            ]
          },
          "metadata": {},
          "execution_count": 200
        }
      ]
    },
    {
      "cell_type": "markdown",
      "source": [
        "***Data Processing***"
      ],
      "metadata": {
        "id": "ayZdk8yZ6cMZ"
      }
    },
    {
      "cell_type": "code",
      "source": [
        "missing_data_count = df.isnull().sum()\n",
        "missing_data_percent = df.isnull().sum() / len(df) * 100\n",
        "\n",
        "missing_data = pd.DataFrame({\n",
        "    'Count': missing_data_count,\n",
        "    'Percent': missing_data_percent\n",
        "})\n",
        "missing_data = missing_data[missing_data.Count > 0]\n",
        "missing_data.sort_values(by='Count', ascending=False, inplace=True)\n",
        "\n",
        "print(f\"There are {missing_data.shape[0]} features having missing data.\\n\")\n",
        "print(\"Top 10 missing value features:\")\n",
        "missing_data.head(10)"
      ],
      "metadata": {
        "colab": {
          "base_uri": "https://localhost:8080/",
          "height": 416
        },
        "id": "dFKkaOXP6YFq",
        "outputId": "4fa4c47e-1bef-4aff-824c-b9226b236c2d"
      },
      "execution_count": 201,
      "outputs": [
        {
          "output_type": "stream",
          "name": "stdout",
          "text": [
            "There are 19 features having missing data.\n",
            "\n",
            "Top 10 missing value features:\n"
          ]
        },
        {
          "output_type": "execute_result",
          "data": {
            "text/plain": [
              "              Count    Percent\n",
              "PoolQC         1453  99.520548\n",
              "MiscFeature    1406  96.301370\n",
              "Alley          1369  93.767123\n",
              "Fence          1179  80.753425\n",
              "FireplaceQu     690  47.260274\n",
              "LotFrontage     259  17.739726\n",
              "GarageType       81   5.547945\n",
              "GarageYrBlt      81   5.547945\n",
              "GarageFinish     81   5.547945\n",
              "GarageQual       81   5.547945"
            ],
            "text/html": [
              "\n",
              "  <div id=\"df-542ac07c-a375-4e5a-a523-d2205e9b6dd6\">\n",
              "    <div class=\"colab-df-container\">\n",
              "      <div>\n",
              "<style scoped>\n",
              "    .dataframe tbody tr th:only-of-type {\n",
              "        vertical-align: middle;\n",
              "    }\n",
              "\n",
              "    .dataframe tbody tr th {\n",
              "        vertical-align: top;\n",
              "    }\n",
              "\n",
              "    .dataframe thead th {\n",
              "        text-align: right;\n",
              "    }\n",
              "</style>\n",
              "<table border=\"1\" class=\"dataframe\">\n",
              "  <thead>\n",
              "    <tr style=\"text-align: right;\">\n",
              "      <th></th>\n",
              "      <th>Count</th>\n",
              "      <th>Percent</th>\n",
              "    </tr>\n",
              "  </thead>\n",
              "  <tbody>\n",
              "    <tr>\n",
              "      <th>PoolQC</th>\n",
              "      <td>1453</td>\n",
              "      <td>99.520548</td>\n",
              "    </tr>\n",
              "    <tr>\n",
              "      <th>MiscFeature</th>\n",
              "      <td>1406</td>\n",
              "      <td>96.301370</td>\n",
              "    </tr>\n",
              "    <tr>\n",
              "      <th>Alley</th>\n",
              "      <td>1369</td>\n",
              "      <td>93.767123</td>\n",
              "    </tr>\n",
              "    <tr>\n",
              "      <th>Fence</th>\n",
              "      <td>1179</td>\n",
              "      <td>80.753425</td>\n",
              "    </tr>\n",
              "    <tr>\n",
              "      <th>FireplaceQu</th>\n",
              "      <td>690</td>\n",
              "      <td>47.260274</td>\n",
              "    </tr>\n",
              "    <tr>\n",
              "      <th>LotFrontage</th>\n",
              "      <td>259</td>\n",
              "      <td>17.739726</td>\n",
              "    </tr>\n",
              "    <tr>\n",
              "      <th>GarageType</th>\n",
              "      <td>81</td>\n",
              "      <td>5.547945</td>\n",
              "    </tr>\n",
              "    <tr>\n",
              "      <th>GarageYrBlt</th>\n",
              "      <td>81</td>\n",
              "      <td>5.547945</td>\n",
              "    </tr>\n",
              "    <tr>\n",
              "      <th>GarageFinish</th>\n",
              "      <td>81</td>\n",
              "      <td>5.547945</td>\n",
              "    </tr>\n",
              "    <tr>\n",
              "      <th>GarageQual</th>\n",
              "      <td>81</td>\n",
              "      <td>5.547945</td>\n",
              "    </tr>\n",
              "  </tbody>\n",
              "</table>\n",
              "</div>\n",
              "      <button class=\"colab-df-convert\" onclick=\"convertToInteractive('df-542ac07c-a375-4e5a-a523-d2205e9b6dd6')\"\n",
              "              title=\"Convert this dataframe to an interactive table.\"\n",
              "              style=\"display:none;\">\n",
              "        \n",
              "  <svg xmlns=\"http://www.w3.org/2000/svg\" height=\"24px\"viewBox=\"0 0 24 24\"\n",
              "       width=\"24px\">\n",
              "    <path d=\"M0 0h24v24H0V0z\" fill=\"none\"/>\n",
              "    <path d=\"M18.56 5.44l.94 2.06.94-2.06 2.06-.94-2.06-.94-.94-2.06-.94 2.06-2.06.94zm-11 1L8.5 8.5l.94-2.06 2.06-.94-2.06-.94L8.5 2.5l-.94 2.06-2.06.94zm10 10l.94 2.06.94-2.06 2.06-.94-2.06-.94-.94-2.06-.94 2.06-2.06.94z\"/><path d=\"M17.41 7.96l-1.37-1.37c-.4-.4-.92-.59-1.43-.59-.52 0-1.04.2-1.43.59L10.3 9.45l-7.72 7.72c-.78.78-.78 2.05 0 2.83L4 21.41c.39.39.9.59 1.41.59.51 0 1.02-.2 1.41-.59l7.78-7.78 2.81-2.81c.8-.78.8-2.07 0-2.86zM5.41 20L4 18.59l7.72-7.72 1.47 1.35L5.41 20z\"/>\n",
              "  </svg>\n",
              "      </button>\n",
              "      \n",
              "  <style>\n",
              "    .colab-df-container {\n",
              "      display:flex;\n",
              "      flex-wrap:wrap;\n",
              "      gap: 12px;\n",
              "    }\n",
              "\n",
              "    .colab-df-convert {\n",
              "      background-color: #E8F0FE;\n",
              "      border: none;\n",
              "      border-radius: 50%;\n",
              "      cursor: pointer;\n",
              "      display: none;\n",
              "      fill: #1967D2;\n",
              "      height: 32px;\n",
              "      padding: 0 0 0 0;\n",
              "      width: 32px;\n",
              "    }\n",
              "\n",
              "    .colab-df-convert:hover {\n",
              "      background-color: #E2EBFA;\n",
              "      box-shadow: 0px 1px 2px rgba(60, 64, 67, 0.3), 0px 1px 3px 1px rgba(60, 64, 67, 0.15);\n",
              "      fill: #174EA6;\n",
              "    }\n",
              "\n",
              "    [theme=dark] .colab-df-convert {\n",
              "      background-color: #3B4455;\n",
              "      fill: #D2E3FC;\n",
              "    }\n",
              "\n",
              "    [theme=dark] .colab-df-convert:hover {\n",
              "      background-color: #434B5C;\n",
              "      box-shadow: 0px 1px 3px 1px rgba(0, 0, 0, 0.15);\n",
              "      filter: drop-shadow(0px 1px 2px rgba(0, 0, 0, 0.3));\n",
              "      fill: #FFFFFF;\n",
              "    }\n",
              "  </style>\n",
              "\n",
              "      <script>\n",
              "        const buttonEl =\n",
              "          document.querySelector('#df-542ac07c-a375-4e5a-a523-d2205e9b6dd6 button.colab-df-convert');\n",
              "        buttonEl.style.display =\n",
              "          google.colab.kernel.accessAllowed ? 'block' : 'none';\n",
              "\n",
              "        async function convertToInteractive(key) {\n",
              "          const element = document.querySelector('#df-542ac07c-a375-4e5a-a523-d2205e9b6dd6');\n",
              "          const dataTable =\n",
              "            await google.colab.kernel.invokeFunction('convertToInteractive',\n",
              "                                                     [key], {});\n",
              "          if (!dataTable) return;\n",
              "\n",
              "          const docLinkHtml = 'Like what you see? Visit the ' +\n",
              "            '<a target=\"_blank\" href=https://colab.research.google.com/notebooks/data_table.ipynb>data table notebook</a>'\n",
              "            + ' to learn more about interactive tables.';\n",
              "          element.innerHTML = '';\n",
              "          dataTable['output_type'] = 'display_data';\n",
              "          await google.colab.output.renderOutput(dataTable, element);\n",
              "          const docLink = document.createElement('div');\n",
              "          docLink.innerHTML = docLinkHtml;\n",
              "          element.appendChild(docLink);\n",
              "        }\n",
              "      </script>\n",
              "    </div>\n",
              "  </div>\n",
              "  "
            ]
          },
          "metadata": {},
          "execution_count": 201
        }
      ]
    },
    {
      "cell_type": "code",
      "source": [
        "from sklearn.impute import SimpleImputer\n",
        "# Group 1:\n",
        "group_1 = [\n",
        "    'PoolQC', 'MiscFeature', 'Alley', 'Fence', 'FireplaceQu', 'GarageType',\n",
        "    'GarageFinish', 'GarageQual', 'GarageCond', 'BsmtQual', 'BsmtCond',\n",
        "    'BsmtExposure', 'BsmtFinType1', 'BsmtFinType2', 'MasVnrType'\n",
        "]\n",
        "df[group_1] = df[group_1].fillna(\"None\")\n",
        "\n",
        "# Group 2:\n",
        "group_2 = [\n",
        "    'GarageArea', 'GarageCars', 'BsmtFinSF1', 'BsmtFinSF2', 'BsmtUnfSF',\n",
        "    'TotalBsmtSF', 'BsmtFullBath', 'BsmtHalfBath', 'MasVnrArea'\n",
        "]\n",
        "\n",
        "df[group_2] = df[group_2].fillna(0)\n",
        "\n",
        "# Group 3:\n",
        "group_3a = [\n",
        "    'Functional', 'MSZoning', 'Electrical', 'KitchenQual', 'Exterior1st',\n",
        "    'Exterior2nd', 'SaleType', 'Utilities'\n",
        "]\n",
        "\n",
        "imputer = SimpleImputer(strategy='most_frequent')\n",
        "df[group_3a] = pd.DataFrame(imputer.fit_transform(df[group_3a]), index=df.index)\n",
        "\n",
        "df.LotFrontage = df.LotFrontage.fillna(df.LotFrontage.mean())\n",
        "df.GarageYrBlt = df.GarageYrBlt.fillna(df.YearBuilt)"
      ],
      "metadata": {
        "id": "oYjiZxi-65LR"
      },
      "execution_count": 202,
      "outputs": []
    },
    {
      "cell_type": "code",
      "source": [
        "#Let's check whether there is any missing value left:\n",
        "sum(df.isnull().sum())"
      ],
      "metadata": {
        "colab": {
          "base_uri": "https://localhost:8080/"
        },
        "id": "-cblGhif7L08",
        "outputId": "b72e249f-74b3-410d-d04b-c0c97f1c161b"
      },
      "execution_count": 203,
      "outputs": [
        {
          "output_type": "execute_result",
          "data": {
            "text/plain": [
              "0"
            ]
          },
          "metadata": {},
          "execution_count": 203
        }
      ]
    },
    {
      "cell_type": "code",
      "source": [
        "#There are two observations lying separately from the rest. They have large living area but low price. They are the outliers that we are looking for. I will delete them from the training set.\n",
        "\n",
        "outlier_index = df_train[(df_train.GrLivArea > 4000)].index\n",
        "df.drop(outlier_index, axis=0, inplace=True)\n",
        "df_test.drop(outlier_index, axis=0, inplace=True)"
      ],
      "metadata": {
        "id": "NMkSiq4T9uZR"
      },
      "execution_count": 204,
      "outputs": []
    },
    {
      "cell_type": "markdown",
      "source": [
        "### **3.3. Feature Engineering**\n",
        "\n",
        "3.3.1. Create New Variables\n",
        "In this step I will create new features from weaker features in the training data. For example, the surface area of each floor has low correlation with house price; however, when we sum them up, the relationship becomes much stronger. In fact, TotalSqFeet becomes the strongest feature in the dataset. The new features I will create are total square feet, total number of bathrooms, age of the house, whether the house was remodeled, and whether the house was sold in the same year it was built."
      ],
      "metadata": {
        "id": "Kc2Ir5TP-PEk"
      }
    },
    {
      "cell_type": "code",
      "source": [
        "df['totalSqFeet'] = df['TotalBsmtSF'] + df['1stFlrSF'] + df['2ndFlrSF']\n",
        "df['totalBathroom'] = df.FullBath + df.BsmtFullBath + 0.5 * (df.HalfBath + df.BsmtHalfBath)\n",
        "df['houseAge'] = df.YrSold - df.YearBuilt\n",
        "df['reModeled'] = np.where(df.YearRemodAdd == df.YearBuilt, 0, 1)\n",
        "df['isNew'] = np.where(df.YrSold == df.YearBuilt, 1, 0)"
      ],
      "metadata": {
        "id": "U2bCRet4-Ifp"
      },
      "execution_count": 205,
      "outputs": []
    },
    {
      "cell_type": "markdown",
      "source": [
        "### 3.3.2. Label Encoding\n",
        "Ordinal categorical features are label encoded. **bold text**"
      ],
      "metadata": {
        "id": "srouEF8J-oZ1"
      }
    },
    {
      "cell_type": "code",
      "source": [
        "from sklearn.preprocessing import LabelEncoder\n",
        "\n",
        "# Ordinal categorical columns\n",
        "label_encoding_cols = [\n",
        "    \"Alley\", \"BsmtCond\", \"BsmtExposure\", \"BsmtFinType1\", \"BsmtFinType2\",\n",
        "    \"BsmtQual\", \"ExterCond\", \"ExterQual\", \"FireplaceQu\", \"Functional\",\n",
        "    \"GarageCond\", \"GarageQual\", \"HeatingQC\", \"KitchenQual\", \"LandSlope\",\n",
        "    \"LotShape\", \"PavedDrive\", \"PoolQC\", \"Street\", \"Utilities\"\n",
        "]\n",
        "\n",
        "# Apply Label Encoder\n",
        "label_encoder = LabelEncoder()\n",
        "\n",
        "for col in label_encoding_cols:\n",
        "    df[col] = label_encoder.fit_transform(df[col])"
      ],
      "metadata": {
        "id": "hEHse-Y4-j4F"
      },
      "execution_count": 206,
      "outputs": []
    },
    {
      "cell_type": "markdown",
      "source": [
        "### 3.3.3. Transform Numerical Variables to Categorical Variables\n",
        "Because I have calculated age of houses, YearBuilt is no longer needed. However, YrSold could have a large impact on house price (e.g. In economic crisis years, house price could be lower). Therefore, I will transform it into categorical variables.\n",
        "\n",
        "Like YrSold, some numerical variables don't have any ordinal meaning (e.g. MoSold, MSSubClass). I will transform them into categorical variables. "
      ],
      "metadata": {
        "id": "vRY7-Zec-0Mo"
      }
    },
    {
      "cell_type": "code",
      "source": [
        "to_factor_cols = ['YrSold', 'MoSold', 'MSSubClass']\n",
        "\n",
        "for col in to_factor_cols:\n",
        "    df[col] = df[col].apply(str)"
      ],
      "metadata": {
        "id": "LlvQ7Pg2-w0N"
      },
      "execution_count": 207,
      "outputs": []
    },
    {
      "cell_type": "markdown",
      "source": [
        "### 3.5. Feature Scaling\n",
        "Except for Decision Tree and Random Forest, it is highly recommended to standardize the data set before running machine learning algorithms since optimization methods and gradient descent run and converge faster on similarly scaled features.\n",
        "\n",
        "However, outliers can often influence the sample mean and standard deviation in a negative way, and models like Lasso and Elastic Net are very sensitive to outliers. In such cases, the median and the interquartile range often give better results. I will use RobustScaler to transform the training data. "
      ],
      "metadata": {
        "id": "dH2gxK-p_PRD"
      }
    },
    {
      "cell_type": "code",
      "source": [
        "from sklearn.preprocessing import RobustScaler\n",
        "numerical_cols = list(df.select_dtypes(exclude=['object']).columns)\n",
        "scaler = RobustScaler()\n",
        "df[numerical_cols] = scaler.fit_transform(df[numerical_cols])"
      ],
      "metadata": {
        "id": "QV9R6QB-_Vvc"
      },
      "execution_count": 208,
      "outputs": []
    },
    {
      "cell_type": "markdown",
      "source": [
        "### 3.6. One-hot Encoding"
      ],
      "metadata": {
        "id": "994l-tB6_hbE"
      }
    },
    {
      "cell_type": "code",
      "source": [
        "X = pd.get_dummies(df, drop_first=True)\n",
        "print(\"X.shape:\", X.shape)\n",
        "y = df_test[\"Actual_SalePrice\"]"
      ],
      "metadata": {
        "colab": {
          "base_uri": "https://localhost:8080/"
        },
        "id": "-tF9Np8u_dZd",
        "outputId": "9d82a7e3-cac2-4f3e-ebc5-8bc75a514986"
      },
      "execution_count": 209,
      "outputs": [
        {
          "output_type": "stream",
          "name": "stdout",
          "text": [
            "X.shape: (1456, 239)\n"
          ]
        }
      ]
    },
    {
      "cell_type": "code",
      "source": [
        "from sklearn.model_selection import train_test_split\n",
        "\n",
        "X_train, X_test, y_train, y_test = train_test_split(X, y, test_size=0.33, random_state=42)"
      ],
      "metadata": {
        "id": "tnlbHxe0_voT"
      },
      "execution_count": 210,
      "outputs": []
    },
    {
      "cell_type": "code",
      "source": [
        "print(X_train.shape)\n",
        "print(X_test.shape)\n",
        "print(y_train.shape)\n",
        "print(y_test.shape)"
      ],
      "metadata": {
        "colab": {
          "base_uri": "https://localhost:8080/"
        },
        "id": "nHxRHHGcAO3U",
        "outputId": "42529c5f-fd2a-4e6e-f1de-6eec370bbea4"
      },
      "execution_count": 211,
      "outputs": [
        {
          "output_type": "stream",
          "name": "stdout",
          "text": [
            "(975, 239)\n",
            "(481, 239)\n",
            "(975,)\n",
            "(481,)\n"
          ]
        }
      ]
    },
    {
      "cell_type": "code",
      "source": [
        "from sklearn.metrics import mean_squared_error\n",
        "\n",
        "# Helper RMSE function\n",
        "def rmse(model, X, y):\n",
        "    predictions = model.predict(X)\n",
        "    mse = mean_squared_error(y, predictions)\n",
        "    return np.sqrt(mse)"
      ],
      "metadata": {
        "id": "yyI2j201BWgK"
      },
      "execution_count": 212,
      "outputs": []
    },
    {
      "cell_type": "code",
      "source": [
        "from xgboost import XGBRegressor"
      ],
      "metadata": {
        "id": "BMbnnD2nA7qq"
      },
      "execution_count": 213,
      "outputs": []
    },
    {
      "cell_type": "code",
      "source": [
        "from sklearn.metrics import mean_absolute_error, mean_squared_error, mean_squared_log_error\n",
        "from sklearn.model_selection import GridSearchCV\n",
        "from sklearn.metrics import make_scorer"
      ],
      "metadata": {
        "id": "oyx450C3CQi0"
      },
      "execution_count": 214,
      "outputs": []
    },
    {
      "cell_type": "code",
      "source": [
        "def custom_function(Y_train, Y_pred):\n",
        "    RMSE=(round(mean_squared_error((Y_train),(Y_pred), squared=False), 4))\n",
        "    return RMSE\n",
        "\n",
        "scorer=make_scorer(custom_function,greater_is_better=False)"
      ],
      "metadata": {
        "id": "wSMzyBVpA8yr"
      },
      "execution_count": 215,
      "outputs": []
    },
    {
      "cell_type": "code",
      "source": [
        "import xgboost as xgb\n",
        "reg = xgb.XGBRegressor()\n",
        "reg.fit(X_train, y_train)\n",
        "Y_pred = reg.predict(X_test)\n",
        "print(reg.score(X_train,y_train))\n",
        "print(\"RMSE: \",round(mean_squared_error((y_test),(Y_pred), squared=False), 4))"
      ],
      "metadata": {
        "colab": {
          "base_uri": "https://localhost:8080/"
        },
        "id": "QE7BGd_uCSEb",
        "outputId": "8ae0dab0-97cf-4a93-9a23-215a8f22a264"
      },
      "execution_count": 216,
      "outputs": [
        {
          "output_type": "stream",
          "name": "stdout",
          "text": [
            "[18:49:20] WARNING: /workspace/src/objective/regression_obj.cu:152: reg:linear is now deprecated in favor of reg:squarederror.\n",
            "0.9999331837694213\n",
            "RMSE:  1112.6481\n"
          ]
        }
      ]
    },
    {
      "cell_type": "code",
      "source": [
        "from sklearn.metrics import mean_squared_error\n",
        "\n",
        "# Helper RMSE function\n",
        "def rmse(model, X, y):\n",
        "    predictions = model.predict(X)\n",
        "    mse = mean_squared_error(y, predictions)\n",
        "    return np.sqrt(mse)\n",
        "# Compute RMSE of linear regression model\n",
        "rmse(reg, X_test, y_test)"
      ],
      "metadata": {
        "colab": {
          "base_uri": "https://localhost:8080/"
        },
        "id": "vrFnzKvEGz1y",
        "outputId": "fa8b5cf7-e23d-4e76-be74-63219d648d57"
      },
      "execution_count": 217,
      "outputs": [
        {
          "output_type": "execute_result",
          "data": {
            "text/plain": [
              "1112.6480508479199"
            ]
          },
          "metadata": {},
          "execution_count": 217
        }
      ]
    },
    {
      "cell_type": "markdown",
      "source": [
        "### **2nd Approach**"
      ],
      "metadata": {
        "id": "07-55jyGzqDH"
      }
    },
    {
      "cell_type": "code",
      "source": [
        "train = pd.read_csv(\"/content/train.csv\")\n",
        "test = pd.read_csv(\"/content/sample_submission.csv\", usecols=[0,1])\n",
        "df1 = pd.merge(df_train, df_test, on=\"Id\")"
      ],
      "metadata": {
        "id": "-kLIHkyJH0ea"
      },
      "execution_count": 218,
      "outputs": []
    },
    {
      "cell_type": "code",
      "source": [
        "train= df1[~((df1['BsmtFinSF2']>1200) |(df1['ScreenPorch']>350)|(df1['GrLivArea']>4000)|(df1['OpenPorchSF']>350)|(df1['EnclosedPorch']>350)| (df1['BsmtFinSF1']>3000) |(df1['MasVnrArea']>1200) |(df1['LotArea']>100000) | (df1['LotFrontage']>200))]"
      ],
      "metadata": {
        "id": "OtnBIRNAHyx2"
      },
      "execution_count": 219,
      "outputs": []
    },
    {
      "cell_type": "code",
      "source": [
        "train.shape"
      ],
      "metadata": {
        "colab": {
          "base_uri": "https://localhost:8080/"
        },
        "id": "2bNOVi7_w_5U",
        "outputId": "93e99454-c245-4b3d-e8a1-5c6bd26bdded"
      },
      "execution_count": 220,
      "outputs": [
        {
          "output_type": "execute_result",
          "data": {
            "text/plain": [
              "(1432, 81)"
            ]
          },
          "metadata": {},
          "execution_count": 220
        }
      ]
    },
    {
      "cell_type": "code",
      "source": [
        "df2=pd.DataFrame({'Type': df1.dtypes,\n",
        "                  'Missing': df1.isna().sum(),\n",
        "                  'Size':df1.shape[0],\n",
        "                  'Unique': df1.nunique()})\n",
        "df2['Missing_%']= (df2.Missing/df2.Size)*100\n",
        "df2[df2['Missing']>0].sort_values(by=['Missing_%'], ascending=False)"
      ],
      "metadata": {
        "colab": {
          "base_uri": "https://localhost:8080/",
          "height": 645
        },
        "id": "dLZ7kGnuIRlt",
        "outputId": "e28cbdd1-08df-4bc9-bd70-c840948f1aa9"
      },
      "execution_count": 221,
      "outputs": [
        {
          "output_type": "execute_result",
          "data": {
            "text/plain": [
              "                 Type  Missing  Size  Unique  Missing_%\n",
              "PoolQC         object     1449  1456       3  99.519231\n",
              "MiscFeature    object     1402  1456       4  96.291209\n",
              "Alley          object     1366  1456       2  93.818681\n",
              "Fence          object     1176  1456       4  80.769231\n",
              "FireplaceQu    object      689  1456       5  47.321429\n",
              "LotFrontage   float64      259  1456     110  17.788462\n",
              "GarageType     object       81  1456       6   5.563187\n",
              "GarageYrBlt   float64       81  1456      97   5.563187\n",
              "GarageFinish   object       81  1456       3   5.563187\n",
              "GarageQual     object       81  1456       5   5.563187\n",
              "GarageCond     object       81  1456       5   5.563187\n",
              "BsmtExposure   object       38  1456       4   2.609890\n",
              "BsmtFinType2   object       38  1456       6   2.609890\n",
              "BsmtFinType1   object       37  1456       6   2.541209\n",
              "BsmtCond       object       37  1456       4   2.541209\n",
              "BsmtQual       object       37  1456       4   2.541209\n",
              "MasVnrArea    float64        8  1456     325   0.549451\n",
              "MasVnrType     object        8  1456       4   0.549451\n",
              "Electrical     object        1  1456       5   0.068681"
            ],
            "text/html": [
              "\n",
              "  <div id=\"df-961dcaca-6d9b-4b66-b7a1-c16b9322c119\">\n",
              "    <div class=\"colab-df-container\">\n",
              "      <div>\n",
              "<style scoped>\n",
              "    .dataframe tbody tr th:only-of-type {\n",
              "        vertical-align: middle;\n",
              "    }\n",
              "\n",
              "    .dataframe tbody tr th {\n",
              "        vertical-align: top;\n",
              "    }\n",
              "\n",
              "    .dataframe thead th {\n",
              "        text-align: right;\n",
              "    }\n",
              "</style>\n",
              "<table border=\"1\" class=\"dataframe\">\n",
              "  <thead>\n",
              "    <tr style=\"text-align: right;\">\n",
              "      <th></th>\n",
              "      <th>Type</th>\n",
              "      <th>Missing</th>\n",
              "      <th>Size</th>\n",
              "      <th>Unique</th>\n",
              "      <th>Missing_%</th>\n",
              "    </tr>\n",
              "  </thead>\n",
              "  <tbody>\n",
              "    <tr>\n",
              "      <th>PoolQC</th>\n",
              "      <td>object</td>\n",
              "      <td>1449</td>\n",
              "      <td>1456</td>\n",
              "      <td>3</td>\n",
              "      <td>99.519231</td>\n",
              "    </tr>\n",
              "    <tr>\n",
              "      <th>MiscFeature</th>\n",
              "      <td>object</td>\n",
              "      <td>1402</td>\n",
              "      <td>1456</td>\n",
              "      <td>4</td>\n",
              "      <td>96.291209</td>\n",
              "    </tr>\n",
              "    <tr>\n",
              "      <th>Alley</th>\n",
              "      <td>object</td>\n",
              "      <td>1366</td>\n",
              "      <td>1456</td>\n",
              "      <td>2</td>\n",
              "      <td>93.818681</td>\n",
              "    </tr>\n",
              "    <tr>\n",
              "      <th>Fence</th>\n",
              "      <td>object</td>\n",
              "      <td>1176</td>\n",
              "      <td>1456</td>\n",
              "      <td>4</td>\n",
              "      <td>80.769231</td>\n",
              "    </tr>\n",
              "    <tr>\n",
              "      <th>FireplaceQu</th>\n",
              "      <td>object</td>\n",
              "      <td>689</td>\n",
              "      <td>1456</td>\n",
              "      <td>5</td>\n",
              "      <td>47.321429</td>\n",
              "    </tr>\n",
              "    <tr>\n",
              "      <th>LotFrontage</th>\n",
              "      <td>float64</td>\n",
              "      <td>259</td>\n",
              "      <td>1456</td>\n",
              "      <td>110</td>\n",
              "      <td>17.788462</td>\n",
              "    </tr>\n",
              "    <tr>\n",
              "      <th>GarageType</th>\n",
              "      <td>object</td>\n",
              "      <td>81</td>\n",
              "      <td>1456</td>\n",
              "      <td>6</td>\n",
              "      <td>5.563187</td>\n",
              "    </tr>\n",
              "    <tr>\n",
              "      <th>GarageYrBlt</th>\n",
              "      <td>float64</td>\n",
              "      <td>81</td>\n",
              "      <td>1456</td>\n",
              "      <td>97</td>\n",
              "      <td>5.563187</td>\n",
              "    </tr>\n",
              "    <tr>\n",
              "      <th>GarageFinish</th>\n",
              "      <td>object</td>\n",
              "      <td>81</td>\n",
              "      <td>1456</td>\n",
              "      <td>3</td>\n",
              "      <td>5.563187</td>\n",
              "    </tr>\n",
              "    <tr>\n",
              "      <th>GarageQual</th>\n",
              "      <td>object</td>\n",
              "      <td>81</td>\n",
              "      <td>1456</td>\n",
              "      <td>5</td>\n",
              "      <td>5.563187</td>\n",
              "    </tr>\n",
              "    <tr>\n",
              "      <th>GarageCond</th>\n",
              "      <td>object</td>\n",
              "      <td>81</td>\n",
              "      <td>1456</td>\n",
              "      <td>5</td>\n",
              "      <td>5.563187</td>\n",
              "    </tr>\n",
              "    <tr>\n",
              "      <th>BsmtExposure</th>\n",
              "      <td>object</td>\n",
              "      <td>38</td>\n",
              "      <td>1456</td>\n",
              "      <td>4</td>\n",
              "      <td>2.609890</td>\n",
              "    </tr>\n",
              "    <tr>\n",
              "      <th>BsmtFinType2</th>\n",
              "      <td>object</td>\n",
              "      <td>38</td>\n",
              "      <td>1456</td>\n",
              "      <td>6</td>\n",
              "      <td>2.609890</td>\n",
              "    </tr>\n",
              "    <tr>\n",
              "      <th>BsmtFinType1</th>\n",
              "      <td>object</td>\n",
              "      <td>37</td>\n",
              "      <td>1456</td>\n",
              "      <td>6</td>\n",
              "      <td>2.541209</td>\n",
              "    </tr>\n",
              "    <tr>\n",
              "      <th>BsmtCond</th>\n",
              "      <td>object</td>\n",
              "      <td>37</td>\n",
              "      <td>1456</td>\n",
              "      <td>4</td>\n",
              "      <td>2.541209</td>\n",
              "    </tr>\n",
              "    <tr>\n",
              "      <th>BsmtQual</th>\n",
              "      <td>object</td>\n",
              "      <td>37</td>\n",
              "      <td>1456</td>\n",
              "      <td>4</td>\n",
              "      <td>2.541209</td>\n",
              "    </tr>\n",
              "    <tr>\n",
              "      <th>MasVnrArea</th>\n",
              "      <td>float64</td>\n",
              "      <td>8</td>\n",
              "      <td>1456</td>\n",
              "      <td>325</td>\n",
              "      <td>0.549451</td>\n",
              "    </tr>\n",
              "    <tr>\n",
              "      <th>MasVnrType</th>\n",
              "      <td>object</td>\n",
              "      <td>8</td>\n",
              "      <td>1456</td>\n",
              "      <td>4</td>\n",
              "      <td>0.549451</td>\n",
              "    </tr>\n",
              "    <tr>\n",
              "      <th>Electrical</th>\n",
              "      <td>object</td>\n",
              "      <td>1</td>\n",
              "      <td>1456</td>\n",
              "      <td>5</td>\n",
              "      <td>0.068681</td>\n",
              "    </tr>\n",
              "  </tbody>\n",
              "</table>\n",
              "</div>\n",
              "      <button class=\"colab-df-convert\" onclick=\"convertToInteractive('df-961dcaca-6d9b-4b66-b7a1-c16b9322c119')\"\n",
              "              title=\"Convert this dataframe to an interactive table.\"\n",
              "              style=\"display:none;\">\n",
              "        \n",
              "  <svg xmlns=\"http://www.w3.org/2000/svg\" height=\"24px\"viewBox=\"0 0 24 24\"\n",
              "       width=\"24px\">\n",
              "    <path d=\"M0 0h24v24H0V0z\" fill=\"none\"/>\n",
              "    <path d=\"M18.56 5.44l.94 2.06.94-2.06 2.06-.94-2.06-.94-.94-2.06-.94 2.06-2.06.94zm-11 1L8.5 8.5l.94-2.06 2.06-.94-2.06-.94L8.5 2.5l-.94 2.06-2.06.94zm10 10l.94 2.06.94-2.06 2.06-.94-2.06-.94-.94-2.06-.94 2.06-2.06.94z\"/><path d=\"M17.41 7.96l-1.37-1.37c-.4-.4-.92-.59-1.43-.59-.52 0-1.04.2-1.43.59L10.3 9.45l-7.72 7.72c-.78.78-.78 2.05 0 2.83L4 21.41c.39.39.9.59 1.41.59.51 0 1.02-.2 1.41-.59l7.78-7.78 2.81-2.81c.8-.78.8-2.07 0-2.86zM5.41 20L4 18.59l7.72-7.72 1.47 1.35L5.41 20z\"/>\n",
              "  </svg>\n",
              "      </button>\n",
              "      \n",
              "  <style>\n",
              "    .colab-df-container {\n",
              "      display:flex;\n",
              "      flex-wrap:wrap;\n",
              "      gap: 12px;\n",
              "    }\n",
              "\n",
              "    .colab-df-convert {\n",
              "      background-color: #E8F0FE;\n",
              "      border: none;\n",
              "      border-radius: 50%;\n",
              "      cursor: pointer;\n",
              "      display: none;\n",
              "      fill: #1967D2;\n",
              "      height: 32px;\n",
              "      padding: 0 0 0 0;\n",
              "      width: 32px;\n",
              "    }\n",
              "\n",
              "    .colab-df-convert:hover {\n",
              "      background-color: #E2EBFA;\n",
              "      box-shadow: 0px 1px 2px rgba(60, 64, 67, 0.3), 0px 1px 3px 1px rgba(60, 64, 67, 0.15);\n",
              "      fill: #174EA6;\n",
              "    }\n",
              "\n",
              "    [theme=dark] .colab-df-convert {\n",
              "      background-color: #3B4455;\n",
              "      fill: #D2E3FC;\n",
              "    }\n",
              "\n",
              "    [theme=dark] .colab-df-convert:hover {\n",
              "      background-color: #434B5C;\n",
              "      box-shadow: 0px 1px 3px 1px rgba(0, 0, 0, 0.15);\n",
              "      filter: drop-shadow(0px 1px 2px rgba(0, 0, 0, 0.3));\n",
              "      fill: #FFFFFF;\n",
              "    }\n",
              "  </style>\n",
              "\n",
              "      <script>\n",
              "        const buttonEl =\n",
              "          document.querySelector('#df-961dcaca-6d9b-4b66-b7a1-c16b9322c119 button.colab-df-convert');\n",
              "        buttonEl.style.display =\n",
              "          google.colab.kernel.accessAllowed ? 'block' : 'none';\n",
              "\n",
              "        async function convertToInteractive(key) {\n",
              "          const element = document.querySelector('#df-961dcaca-6d9b-4b66-b7a1-c16b9322c119');\n",
              "          const dataTable =\n",
              "            await google.colab.kernel.invokeFunction('convertToInteractive',\n",
              "                                                     [key], {});\n",
              "          if (!dataTable) return;\n",
              "\n",
              "          const docLinkHtml = 'Like what you see? Visit the ' +\n",
              "            '<a target=\"_blank\" href=https://colab.research.google.com/notebooks/data_table.ipynb>data table notebook</a>'\n",
              "            + ' to learn more about interactive tables.';\n",
              "          element.innerHTML = '';\n",
              "          dataTable['output_type'] = 'display_data';\n",
              "          await google.colab.output.renderOutput(dataTable, element);\n",
              "          const docLink = document.createElement('div');\n",
              "          docLink.innerHTML = docLinkHtml;\n",
              "          element.appendChild(docLink);\n",
              "        }\n",
              "      </script>\n",
              "    </div>\n",
              "  </div>\n",
              "  "
            ]
          },
          "metadata": {},
          "execution_count": 221
        }
      ]
    },
    {
      "cell_type": "code",
      "source": [
        "df1['PoolQC']=df1['PoolQC'].fillna('NA')\n",
        "df1['MiscFeature']=df1['MiscFeature'].fillna('NA')\n",
        "df1['Alley']=df1['Alley'].fillna('NA')\n",
        "df1['Fence']=df1['Fence'].fillna('NA')\n",
        "df1['FireplaceQu']=df1['FireplaceQu'].fillna('NA')\n",
        "df1['GarageType']=df1['GarageType'].fillna('NA')\n",
        "df1['GarageFinish']=df1['GarageFinish'].fillna('NA')\n",
        "df1['BsmtCond']=df1['BsmtCond'].fillna('NA')\n",
        "df1['BsmtExposure']=df1['BsmtExposure'].fillna('NA')\n",
        "df1['BsmtQual']=df1['BsmtQual'].fillna('NA')\n",
        "df1['BsmtFinType2']=df1['BsmtFinType2'].fillna('NA')\n",
        "df1['Electrical']=df1['Electrical'].fillna(df1['Electrical'].mode()[0])\n",
        "df1['GarageCond']=df1['GarageCond'].fillna('NA')\n",
        "df1['GarageQual']=df1['GarageQual'].fillna('NA')\n",
        "df1['BsmtFinType1']=df1['BsmtFinType1'].fillna('NA')\n",
        "df1['MasVnrType']=df1['MasVnrType'].fillna('None')\n",
        "df1['MSZoning']=df1['MSZoning'].fillna('RL')\n",
        "df1['Functional']=df1['Functional'].fillna('Typ')\n",
        "df1['Utilities']=df1['Utilities'].fillna('AllPub')\n",
        "df1['KitchenQual']=df1['KitchenQual'].fillna('TA')\n",
        "df1['Exterior2nd']=df1['Exterior2nd'].fillna('VinylSd')\n",
        "df1['Exterior1st']=df1['Exterior1st'].fillna('VinylSd')\n",
        "df1['SaleType']=df1['SaleType'].fillna('WD')\n",
        "df1['LotFrontage'] = df1['LotFrontage'].fillna(df1['LotFrontage'].median())\n",
        "df1['GarageYrBlt'] = df1['GarageYrBlt'].fillna(df1['GarageYrBlt'].median())\n",
        "df1['MasVnrArea'] = df1['MasVnrArea'].fillna(df1['MasVnrArea'].median())"
      ],
      "metadata": {
        "id": "3CGVkvt9JC6I"
      },
      "execution_count": 222,
      "outputs": []
    },
    {
      "cell_type": "code",
      "source": [
        "df1['MSSubClass']=df1['MSSubClass'].astype(object)\n",
        "df1['MoSold']=df1['MoSold'].astype(object)"
      ],
      "metadata": {
        "id": "nFQo1HeHJVal"
      },
      "execution_count": 223,
      "outputs": []
    },
    {
      "cell_type": "code",
      "source": [
        "'''\n",
        "for i in df2[df2['Missing']>0].index:\n",
        "    if i=='SalePrice':\n",
        "        continue\n",
        "    else:\n",
        "        df1[i]=df1[i].fillna(df1[i].median())\n",
        "        '''"
      ],
      "metadata": {
        "colab": {
          "base_uri": "https://localhost:8080/",
          "height": 53
        },
        "id": "-lYzAeTx1mDh",
        "outputId": "5661cda5-3324-4b73-9f27-c91fa4394702"
      },
      "execution_count": 224,
      "outputs": [
        {
          "output_type": "execute_result",
          "data": {
            "text/plain": [
              "\"\\nfor i in df2[df2['Missing']>0].index:\\n    if i=='SalePrice':\\n        continue\\n    else:\\n        df1[i]=df1[i].fillna(df1[i].median())\\n        \""
            ],
            "application/vnd.google.colaboratory.intrinsic+json": {
              "type": "string"
            }
          },
          "metadata": {},
          "execution_count": 224
        }
      ]
    },
    {
      "cell_type": "code",
      "source": [
        "df2=pd.DataFrame({'Type': df1.dtypes,\n",
        "                  'Missing': df1.isna().sum(),\n",
        "                  'Size':df1.shape[0],\n",
        "                  'Unique': df1.nunique()})\n",
        "df2['Missing_%']= (df2.Missing/df2.Size)*100\n",
        "df2[df2['Missing']>0].sort_values(by=['Missing_%'], ascending=False)"
      ],
      "metadata": {
        "colab": {
          "base_uri": "https://localhost:8080/",
          "height": 49
        },
        "id": "SjMdZAtRJbHV",
        "outputId": "2fc4400f-185b-4ace-c6a7-0312d62e8dcc"
      },
      "execution_count": 225,
      "outputs": [
        {
          "output_type": "execute_result",
          "data": {
            "text/plain": [
              "Empty DataFrame\n",
              "Columns: [Type, Missing, Size, Unique, Missing_%]\n",
              "Index: []"
            ],
            "text/html": [
              "\n",
              "  <div id=\"df-9bebec1a-f66b-4d63-bdda-1f5a633c648a\">\n",
              "    <div class=\"colab-df-container\">\n",
              "      <div>\n",
              "<style scoped>\n",
              "    .dataframe tbody tr th:only-of-type {\n",
              "        vertical-align: middle;\n",
              "    }\n",
              "\n",
              "    .dataframe tbody tr th {\n",
              "        vertical-align: top;\n",
              "    }\n",
              "\n",
              "    .dataframe thead th {\n",
              "        text-align: right;\n",
              "    }\n",
              "</style>\n",
              "<table border=\"1\" class=\"dataframe\">\n",
              "  <thead>\n",
              "    <tr style=\"text-align: right;\">\n",
              "      <th></th>\n",
              "      <th>Type</th>\n",
              "      <th>Missing</th>\n",
              "      <th>Size</th>\n",
              "      <th>Unique</th>\n",
              "      <th>Missing_%</th>\n",
              "    </tr>\n",
              "  </thead>\n",
              "  <tbody>\n",
              "  </tbody>\n",
              "</table>\n",
              "</div>\n",
              "      <button class=\"colab-df-convert\" onclick=\"convertToInteractive('df-9bebec1a-f66b-4d63-bdda-1f5a633c648a')\"\n",
              "              title=\"Convert this dataframe to an interactive table.\"\n",
              "              style=\"display:none;\">\n",
              "        \n",
              "  <svg xmlns=\"http://www.w3.org/2000/svg\" height=\"24px\"viewBox=\"0 0 24 24\"\n",
              "       width=\"24px\">\n",
              "    <path d=\"M0 0h24v24H0V0z\" fill=\"none\"/>\n",
              "    <path d=\"M18.56 5.44l.94 2.06.94-2.06 2.06-.94-2.06-.94-.94-2.06-.94 2.06-2.06.94zm-11 1L8.5 8.5l.94-2.06 2.06-.94-2.06-.94L8.5 2.5l-.94 2.06-2.06.94zm10 10l.94 2.06.94-2.06 2.06-.94-2.06-.94-.94-2.06-.94 2.06-2.06.94z\"/><path d=\"M17.41 7.96l-1.37-1.37c-.4-.4-.92-.59-1.43-.59-.52 0-1.04.2-1.43.59L10.3 9.45l-7.72 7.72c-.78.78-.78 2.05 0 2.83L4 21.41c.39.39.9.59 1.41.59.51 0 1.02-.2 1.41-.59l7.78-7.78 2.81-2.81c.8-.78.8-2.07 0-2.86zM5.41 20L4 18.59l7.72-7.72 1.47 1.35L5.41 20z\"/>\n",
              "  </svg>\n",
              "      </button>\n",
              "      \n",
              "  <style>\n",
              "    .colab-df-container {\n",
              "      display:flex;\n",
              "      flex-wrap:wrap;\n",
              "      gap: 12px;\n",
              "    }\n",
              "\n",
              "    .colab-df-convert {\n",
              "      background-color: #E8F0FE;\n",
              "      border: none;\n",
              "      border-radius: 50%;\n",
              "      cursor: pointer;\n",
              "      display: none;\n",
              "      fill: #1967D2;\n",
              "      height: 32px;\n",
              "      padding: 0 0 0 0;\n",
              "      width: 32px;\n",
              "    }\n",
              "\n",
              "    .colab-df-convert:hover {\n",
              "      background-color: #E2EBFA;\n",
              "      box-shadow: 0px 1px 2px rgba(60, 64, 67, 0.3), 0px 1px 3px 1px rgba(60, 64, 67, 0.15);\n",
              "      fill: #174EA6;\n",
              "    }\n",
              "\n",
              "    [theme=dark] .colab-df-convert {\n",
              "      background-color: #3B4455;\n",
              "      fill: #D2E3FC;\n",
              "    }\n",
              "\n",
              "    [theme=dark] .colab-df-convert:hover {\n",
              "      background-color: #434B5C;\n",
              "      box-shadow: 0px 1px 3px 1px rgba(0, 0, 0, 0.15);\n",
              "      filter: drop-shadow(0px 1px 2px rgba(0, 0, 0, 0.3));\n",
              "      fill: #FFFFFF;\n",
              "    }\n",
              "  </style>\n",
              "\n",
              "      <script>\n",
              "        const buttonEl =\n",
              "          document.querySelector('#df-9bebec1a-f66b-4d63-bdda-1f5a633c648a button.colab-df-convert');\n",
              "        buttonEl.style.display =\n",
              "          google.colab.kernel.accessAllowed ? 'block' : 'none';\n",
              "\n",
              "        async function convertToInteractive(key) {\n",
              "          const element = document.querySelector('#df-9bebec1a-f66b-4d63-bdda-1f5a633c648a');\n",
              "          const dataTable =\n",
              "            await google.colab.kernel.invokeFunction('convertToInteractive',\n",
              "                                                     [key], {});\n",
              "          if (!dataTable) return;\n",
              "\n",
              "          const docLinkHtml = 'Like what you see? Visit the ' +\n",
              "            '<a target=\"_blank\" href=https://colab.research.google.com/notebooks/data_table.ipynb>data table notebook</a>'\n",
              "            + ' to learn more about interactive tables.';\n",
              "          element.innerHTML = '';\n",
              "          dataTable['output_type'] = 'display_data';\n",
              "          await google.colab.output.renderOutput(dataTable, element);\n",
              "          const docLink = document.createElement('div');\n",
              "          docLink.innerHTML = docLinkHtml;\n",
              "          element.appendChild(docLink);\n",
              "        }\n",
              "      </script>\n",
              "    </div>\n",
              "  </div>\n",
              "  "
            ]
          },
          "metadata": {},
          "execution_count": 225
        }
      ]
    },
    {
      "cell_type": "code",
      "source": [
        "categorical=['MSSubClass', 'MSZoning', 'LotConfig', 'Neighborhood', 'LandSlope', 'LandContour',\n",
        "             'Condition1','Condition2','BldgType', 'HouseStyle', 'YearBuilt','YearBuilt',\n",
        "             'YearRemodAdd', 'RoofStyle', 'Exterior1st', 'Exterior2nd','RoofMatl',\n",
        "            'MasVnrType', 'Foundation', 'Heating', 'Electrical', 'GarageType', 'Fence',\n",
        "            'MiscFeature', 'MoSold' ,'YrSold', 'SaleType', 'PavedDrive','Alley','SaleCondition' ]"
      ],
      "metadata": {
        "id": "V_qfq--8KG26"
      },
      "execution_count": 226,
      "outputs": []
    },
    {
      "cell_type": "code",
      "source": [
        "ordinal=['LotShape', 'ExterQual','ExterCond', 'BsmtQual', 'BsmtCond', 'BsmtExposure', \n",
        "         'BsmtFinType1', 'BsmtFinType2','HeatingQC','KitchenQual', 'Functional', \n",
        "        'FireplaceQu', 'GarageFinish','GarageQual', 'GarageCond', ]"
      ],
      "metadata": {
        "id": "z9woK1N7KZZQ"
      },
      "execution_count": 227,
      "outputs": []
    },
    {
      "cell_type": "code",
      "source": [
        "numerical=['LotFrontage', 'LotArea', 'OverallQual', 'OverallCond', 'MasVnrArea',\n",
        "          'BsmtFinSF1', 'BsmtFinSF2', 'BsmtUnfSF', 'TotalBsmtSF', '1stFlrSF', \n",
        "          '2ndFlrSF', 'LowQualFinSF', 'GrLivArea', 'BsmtFullBath','FullBath',\n",
        "          'HalfBath', 'BedroomAbvGr', 'KitchenAbvGr', 'TotRmsAbvGrd', 'Fireplaces', \n",
        "           'GarageCars', 'GarageArea', 'WoodDeckSF','OpenPorchSF', 'EnclosedPorch',\n",
        "          'ScreenPorch', 'MiscVal', 'GarageYrBlt', 'Actual_SalePrice' ]"
      ],
      "metadata": {
        "id": "toPmpOcCKZfU"
      },
      "execution_count": 228,
      "outputs": []
    },
    {
      "cell_type": "code",
      "source": [
        "ex_qu= { 'Po':0, 'Fa': 0, 'TA': 1, 'Gd': 2, 'Ex': 3 }\n",
        "ex_cond={ 'Po':0, 'Fa': 1, 'TA': 2, 'Gd': 3, 'Ex': 4 }\n",
        "Bsmt_Qual={\"NA\": 0, 'Po':1, 'Fa': 2, 'TA': 3, 'Gd': 4, 'Ex': 5 }\n",
        "BsmtFinType1={ \"NA\": 0, 'Unf':0, 'LwQ': 1, 'Rec': 2, 'BLQ': 3, 'ALQ': 4, 'GLQ':5 }\n",
        "Bsmt_Exposure={ \"NA\":0, \"No\": 0, \"Mn\": 1, \"Av\": 2, \"Gd\": 3}\n",
        "garage_fin={'NA': 0, 'Unf': 1, 'RFn': 2, 'Fin': 3}\n",
        "garage_qu= { \"NA\": 0, 'Po':0, 'Fa':1, 'TA': 2, 'Gd': 3, 'Ex': 4  }\n",
        "LotShape={\"IR3\": 0, 'IR2':0, 'IR1': 1, 'Reg': 2}\n",
        "Functional={\"Sal\": 0, 'Sev':1, 'Maj2': 2, 'Maj1': 3, 'Mod': 4, 'Min2':5, 'Min1':6, 'Typ':7}\n",
        "\n",
        "data=df1.replace({\"LotShape\": LotShape,\n",
        "                    \"ExterQual\": ex_qu,\n",
        "                   \"ExterCond\": ex_cond,\n",
        "                   \"BsmtQual\": Bsmt_Qual,\n",
        "                   \"BsmtCond\": Bsmt_Qual,\n",
        "                   \"BsmtExposure\": Bsmt_Exposure, \n",
        "                   \"BsmtFinType1\": BsmtFinType1, \n",
        "                   \"BsmtFinType2\": BsmtFinType1,\n",
        "                   \"HeatingQC\": ex_qu,\n",
        "                   \"KitchenQual\": ex_qu,\n",
        "                   \"Functional\": Functional,\n",
        "                    \"GarageFinish\": garage_fin,\n",
        "                    \"GarageQual\": garage_qu,\n",
        "                    \"GarageCond\": garage_qu,\n",
        "                    \"FireplaceQu\": garage_qu})"
      ],
      "metadata": {
        "id": "9HD495HXKZvT"
      },
      "execution_count": 229,
      "outputs": []
    },
    {
      "cell_type": "code",
      "source": [
        "X1=data[ordinal]\n",
        "X2=pd.get_dummies(data[categorical], drop_first=True)\n",
        "X3=data[numerical]\n",
        "X3"
      ],
      "metadata": {
        "colab": {
          "base_uri": "https://localhost:8080/",
          "height": 488
        },
        "id": "j6N6TaUXKZx7",
        "outputId": "3a7a2243-a011-4558-edaa-1528182dee66"
      },
      "execution_count": 230,
      "outputs": [
        {
          "output_type": "execute_result",
          "data": {
            "text/plain": [
              "      LotFrontage  LotArea  OverallQual  OverallCond  MasVnrArea  BsmtFinSF1  \\\n",
              "0            65.0     8450            7            5       196.0         706   \n",
              "1            80.0     9600            6            8         0.0         978   \n",
              "2            68.0    11250            7            5       162.0         486   \n",
              "3            60.0     9550            7            5         0.0         216   \n",
              "4            84.0    14260            8            5       350.0         655   \n",
              "...           ...      ...          ...          ...         ...         ...   \n",
              "1451         62.0     7917            6            5         0.0           0   \n",
              "1452         85.0    13175            6            6       119.0         790   \n",
              "1453         66.0     9042            7            9         0.0         275   \n",
              "1454         68.0     9717            5            6         0.0          49   \n",
              "1455         75.0     9937            5            6         0.0         830   \n",
              "\n",
              "      BsmtFinSF2  BsmtUnfSF  TotalBsmtSF  1stFlrSF  ...  Fireplaces  \\\n",
              "0              0        150          856       856  ...           0   \n",
              "1              0        284         1262      1262  ...           1   \n",
              "2              0        434          920       920  ...           1   \n",
              "3              0        540          756       961  ...           1   \n",
              "4              0        490         1145      1145  ...           1   \n",
              "...          ...        ...          ...       ...  ...         ...   \n",
              "1451           0        953          953       953  ...           1   \n",
              "1452         163        589         1542      2073  ...           2   \n",
              "1453           0        877         1152      1188  ...           2   \n",
              "1454        1029          0         1078      1078  ...           0   \n",
              "1455         290        136         1256      1256  ...           0   \n",
              "\n",
              "      GarageCars  GarageArea  WoodDeckSF  OpenPorchSF  EnclosedPorch  \\\n",
              "0              2         548           0           61              0   \n",
              "1              2         460         298            0              0   \n",
              "2              2         608           0           42              0   \n",
              "3              3         642           0           35            272   \n",
              "4              3         836         192           84              0   \n",
              "...          ...         ...         ...          ...            ...   \n",
              "1451           2         460           0           40              0   \n",
              "1452           2         500         349            0              0   \n",
              "1453           1         252           0           60              0   \n",
              "1454           1         240         366            0            112   \n",
              "1455           1         276         736           68              0   \n",
              "\n",
              "      ScreenPorch  MiscVal  GarageYrBlt  Actual_SalePrice  \n",
              "0               0        0       2003.0            208500  \n",
              "1               0        0       1976.0            181500  \n",
              "2               0        0       2001.0            223500  \n",
              "3               0        0       1998.0            140000  \n",
              "4               0        0       2000.0            250000  \n",
              "...           ...      ...          ...               ...  \n",
              "1451            0        0       1999.0            175000  \n",
              "1452            0        0       1978.0            210000  \n",
              "1453            0     2500       1941.0            266500  \n",
              "1454            0        0       1950.0            142125  \n",
              "1455            0        0       1965.0            147500  \n",
              "\n",
              "[1456 rows x 29 columns]"
            ],
            "text/html": [
              "\n",
              "  <div id=\"df-adb64c5c-bc49-45ce-8884-4a271f16501e\">\n",
              "    <div class=\"colab-df-container\">\n",
              "      <div>\n",
              "<style scoped>\n",
              "    .dataframe tbody tr th:only-of-type {\n",
              "        vertical-align: middle;\n",
              "    }\n",
              "\n",
              "    .dataframe tbody tr th {\n",
              "        vertical-align: top;\n",
              "    }\n",
              "\n",
              "    .dataframe thead th {\n",
              "        text-align: right;\n",
              "    }\n",
              "</style>\n",
              "<table border=\"1\" class=\"dataframe\">\n",
              "  <thead>\n",
              "    <tr style=\"text-align: right;\">\n",
              "      <th></th>\n",
              "      <th>LotFrontage</th>\n",
              "      <th>LotArea</th>\n",
              "      <th>OverallQual</th>\n",
              "      <th>OverallCond</th>\n",
              "      <th>MasVnrArea</th>\n",
              "      <th>BsmtFinSF1</th>\n",
              "      <th>BsmtFinSF2</th>\n",
              "      <th>BsmtUnfSF</th>\n",
              "      <th>TotalBsmtSF</th>\n",
              "      <th>1stFlrSF</th>\n",
              "      <th>...</th>\n",
              "      <th>Fireplaces</th>\n",
              "      <th>GarageCars</th>\n",
              "      <th>GarageArea</th>\n",
              "      <th>WoodDeckSF</th>\n",
              "      <th>OpenPorchSF</th>\n",
              "      <th>EnclosedPorch</th>\n",
              "      <th>ScreenPorch</th>\n",
              "      <th>MiscVal</th>\n",
              "      <th>GarageYrBlt</th>\n",
              "      <th>Actual_SalePrice</th>\n",
              "    </tr>\n",
              "  </thead>\n",
              "  <tbody>\n",
              "    <tr>\n",
              "      <th>0</th>\n",
              "      <td>65.0</td>\n",
              "      <td>8450</td>\n",
              "      <td>7</td>\n",
              "      <td>5</td>\n",
              "      <td>196.0</td>\n",
              "      <td>706</td>\n",
              "      <td>0</td>\n",
              "      <td>150</td>\n",
              "      <td>856</td>\n",
              "      <td>856</td>\n",
              "      <td>...</td>\n",
              "      <td>0</td>\n",
              "      <td>2</td>\n",
              "      <td>548</td>\n",
              "      <td>0</td>\n",
              "      <td>61</td>\n",
              "      <td>0</td>\n",
              "      <td>0</td>\n",
              "      <td>0</td>\n",
              "      <td>2003.0</td>\n",
              "      <td>208500</td>\n",
              "    </tr>\n",
              "    <tr>\n",
              "      <th>1</th>\n",
              "      <td>80.0</td>\n",
              "      <td>9600</td>\n",
              "      <td>6</td>\n",
              "      <td>8</td>\n",
              "      <td>0.0</td>\n",
              "      <td>978</td>\n",
              "      <td>0</td>\n",
              "      <td>284</td>\n",
              "      <td>1262</td>\n",
              "      <td>1262</td>\n",
              "      <td>...</td>\n",
              "      <td>1</td>\n",
              "      <td>2</td>\n",
              "      <td>460</td>\n",
              "      <td>298</td>\n",
              "      <td>0</td>\n",
              "      <td>0</td>\n",
              "      <td>0</td>\n",
              "      <td>0</td>\n",
              "      <td>1976.0</td>\n",
              "      <td>181500</td>\n",
              "    </tr>\n",
              "    <tr>\n",
              "      <th>2</th>\n",
              "      <td>68.0</td>\n",
              "      <td>11250</td>\n",
              "      <td>7</td>\n",
              "      <td>5</td>\n",
              "      <td>162.0</td>\n",
              "      <td>486</td>\n",
              "      <td>0</td>\n",
              "      <td>434</td>\n",
              "      <td>920</td>\n",
              "      <td>920</td>\n",
              "      <td>...</td>\n",
              "      <td>1</td>\n",
              "      <td>2</td>\n",
              "      <td>608</td>\n",
              "      <td>0</td>\n",
              "      <td>42</td>\n",
              "      <td>0</td>\n",
              "      <td>0</td>\n",
              "      <td>0</td>\n",
              "      <td>2001.0</td>\n",
              "      <td>223500</td>\n",
              "    </tr>\n",
              "    <tr>\n",
              "      <th>3</th>\n",
              "      <td>60.0</td>\n",
              "      <td>9550</td>\n",
              "      <td>7</td>\n",
              "      <td>5</td>\n",
              "      <td>0.0</td>\n",
              "      <td>216</td>\n",
              "      <td>0</td>\n",
              "      <td>540</td>\n",
              "      <td>756</td>\n",
              "      <td>961</td>\n",
              "      <td>...</td>\n",
              "      <td>1</td>\n",
              "      <td>3</td>\n",
              "      <td>642</td>\n",
              "      <td>0</td>\n",
              "      <td>35</td>\n",
              "      <td>272</td>\n",
              "      <td>0</td>\n",
              "      <td>0</td>\n",
              "      <td>1998.0</td>\n",
              "      <td>140000</td>\n",
              "    </tr>\n",
              "    <tr>\n",
              "      <th>4</th>\n",
              "      <td>84.0</td>\n",
              "      <td>14260</td>\n",
              "      <td>8</td>\n",
              "      <td>5</td>\n",
              "      <td>350.0</td>\n",
              "      <td>655</td>\n",
              "      <td>0</td>\n",
              "      <td>490</td>\n",
              "      <td>1145</td>\n",
              "      <td>1145</td>\n",
              "      <td>...</td>\n",
              "      <td>1</td>\n",
              "      <td>3</td>\n",
              "      <td>836</td>\n",
              "      <td>192</td>\n",
              "      <td>84</td>\n",
              "      <td>0</td>\n",
              "      <td>0</td>\n",
              "      <td>0</td>\n",
              "      <td>2000.0</td>\n",
              "      <td>250000</td>\n",
              "    </tr>\n",
              "    <tr>\n",
              "      <th>...</th>\n",
              "      <td>...</td>\n",
              "      <td>...</td>\n",
              "      <td>...</td>\n",
              "      <td>...</td>\n",
              "      <td>...</td>\n",
              "      <td>...</td>\n",
              "      <td>...</td>\n",
              "      <td>...</td>\n",
              "      <td>...</td>\n",
              "      <td>...</td>\n",
              "      <td>...</td>\n",
              "      <td>...</td>\n",
              "      <td>...</td>\n",
              "      <td>...</td>\n",
              "      <td>...</td>\n",
              "      <td>...</td>\n",
              "      <td>...</td>\n",
              "      <td>...</td>\n",
              "      <td>...</td>\n",
              "      <td>...</td>\n",
              "      <td>...</td>\n",
              "    </tr>\n",
              "    <tr>\n",
              "      <th>1451</th>\n",
              "      <td>62.0</td>\n",
              "      <td>7917</td>\n",
              "      <td>6</td>\n",
              "      <td>5</td>\n",
              "      <td>0.0</td>\n",
              "      <td>0</td>\n",
              "      <td>0</td>\n",
              "      <td>953</td>\n",
              "      <td>953</td>\n",
              "      <td>953</td>\n",
              "      <td>...</td>\n",
              "      <td>1</td>\n",
              "      <td>2</td>\n",
              "      <td>460</td>\n",
              "      <td>0</td>\n",
              "      <td>40</td>\n",
              "      <td>0</td>\n",
              "      <td>0</td>\n",
              "      <td>0</td>\n",
              "      <td>1999.0</td>\n",
              "      <td>175000</td>\n",
              "    </tr>\n",
              "    <tr>\n",
              "      <th>1452</th>\n",
              "      <td>85.0</td>\n",
              "      <td>13175</td>\n",
              "      <td>6</td>\n",
              "      <td>6</td>\n",
              "      <td>119.0</td>\n",
              "      <td>790</td>\n",
              "      <td>163</td>\n",
              "      <td>589</td>\n",
              "      <td>1542</td>\n",
              "      <td>2073</td>\n",
              "      <td>...</td>\n",
              "      <td>2</td>\n",
              "      <td>2</td>\n",
              "      <td>500</td>\n",
              "      <td>349</td>\n",
              "      <td>0</td>\n",
              "      <td>0</td>\n",
              "      <td>0</td>\n",
              "      <td>0</td>\n",
              "      <td>1978.0</td>\n",
              "      <td>210000</td>\n",
              "    </tr>\n",
              "    <tr>\n",
              "      <th>1453</th>\n",
              "      <td>66.0</td>\n",
              "      <td>9042</td>\n",
              "      <td>7</td>\n",
              "      <td>9</td>\n",
              "      <td>0.0</td>\n",
              "      <td>275</td>\n",
              "      <td>0</td>\n",
              "      <td>877</td>\n",
              "      <td>1152</td>\n",
              "      <td>1188</td>\n",
              "      <td>...</td>\n",
              "      <td>2</td>\n",
              "      <td>1</td>\n",
              "      <td>252</td>\n",
              "      <td>0</td>\n",
              "      <td>60</td>\n",
              "      <td>0</td>\n",
              "      <td>0</td>\n",
              "      <td>2500</td>\n",
              "      <td>1941.0</td>\n",
              "      <td>266500</td>\n",
              "    </tr>\n",
              "    <tr>\n",
              "      <th>1454</th>\n",
              "      <td>68.0</td>\n",
              "      <td>9717</td>\n",
              "      <td>5</td>\n",
              "      <td>6</td>\n",
              "      <td>0.0</td>\n",
              "      <td>49</td>\n",
              "      <td>1029</td>\n",
              "      <td>0</td>\n",
              "      <td>1078</td>\n",
              "      <td>1078</td>\n",
              "      <td>...</td>\n",
              "      <td>0</td>\n",
              "      <td>1</td>\n",
              "      <td>240</td>\n",
              "      <td>366</td>\n",
              "      <td>0</td>\n",
              "      <td>112</td>\n",
              "      <td>0</td>\n",
              "      <td>0</td>\n",
              "      <td>1950.0</td>\n",
              "      <td>142125</td>\n",
              "    </tr>\n",
              "    <tr>\n",
              "      <th>1455</th>\n",
              "      <td>75.0</td>\n",
              "      <td>9937</td>\n",
              "      <td>5</td>\n",
              "      <td>6</td>\n",
              "      <td>0.0</td>\n",
              "      <td>830</td>\n",
              "      <td>290</td>\n",
              "      <td>136</td>\n",
              "      <td>1256</td>\n",
              "      <td>1256</td>\n",
              "      <td>...</td>\n",
              "      <td>0</td>\n",
              "      <td>1</td>\n",
              "      <td>276</td>\n",
              "      <td>736</td>\n",
              "      <td>68</td>\n",
              "      <td>0</td>\n",
              "      <td>0</td>\n",
              "      <td>0</td>\n",
              "      <td>1965.0</td>\n",
              "      <td>147500</td>\n",
              "    </tr>\n",
              "  </tbody>\n",
              "</table>\n",
              "<p>1456 rows × 29 columns</p>\n",
              "</div>\n",
              "      <button class=\"colab-df-convert\" onclick=\"convertToInteractive('df-adb64c5c-bc49-45ce-8884-4a271f16501e')\"\n",
              "              title=\"Convert this dataframe to an interactive table.\"\n",
              "              style=\"display:none;\">\n",
              "        \n",
              "  <svg xmlns=\"http://www.w3.org/2000/svg\" height=\"24px\"viewBox=\"0 0 24 24\"\n",
              "       width=\"24px\">\n",
              "    <path d=\"M0 0h24v24H0V0z\" fill=\"none\"/>\n",
              "    <path d=\"M18.56 5.44l.94 2.06.94-2.06 2.06-.94-2.06-.94-.94-2.06-.94 2.06-2.06.94zm-11 1L8.5 8.5l.94-2.06 2.06-.94-2.06-.94L8.5 2.5l-.94 2.06-2.06.94zm10 10l.94 2.06.94-2.06 2.06-.94-2.06-.94-.94-2.06-.94 2.06-2.06.94z\"/><path d=\"M17.41 7.96l-1.37-1.37c-.4-.4-.92-.59-1.43-.59-.52 0-1.04.2-1.43.59L10.3 9.45l-7.72 7.72c-.78.78-.78 2.05 0 2.83L4 21.41c.39.39.9.59 1.41.59.51 0 1.02-.2 1.41-.59l7.78-7.78 2.81-2.81c.8-.78.8-2.07 0-2.86zM5.41 20L4 18.59l7.72-7.72 1.47 1.35L5.41 20z\"/>\n",
              "  </svg>\n",
              "      </button>\n",
              "      \n",
              "  <style>\n",
              "    .colab-df-container {\n",
              "      display:flex;\n",
              "      flex-wrap:wrap;\n",
              "      gap: 12px;\n",
              "    }\n",
              "\n",
              "    .colab-df-convert {\n",
              "      background-color: #E8F0FE;\n",
              "      border: none;\n",
              "      border-radius: 50%;\n",
              "      cursor: pointer;\n",
              "      display: none;\n",
              "      fill: #1967D2;\n",
              "      height: 32px;\n",
              "      padding: 0 0 0 0;\n",
              "      width: 32px;\n",
              "    }\n",
              "\n",
              "    .colab-df-convert:hover {\n",
              "      background-color: #E2EBFA;\n",
              "      box-shadow: 0px 1px 2px rgba(60, 64, 67, 0.3), 0px 1px 3px 1px rgba(60, 64, 67, 0.15);\n",
              "      fill: #174EA6;\n",
              "    }\n",
              "\n",
              "    [theme=dark] .colab-df-convert {\n",
              "      background-color: #3B4455;\n",
              "      fill: #D2E3FC;\n",
              "    }\n",
              "\n",
              "    [theme=dark] .colab-df-convert:hover {\n",
              "      background-color: #434B5C;\n",
              "      box-shadow: 0px 1px 3px 1px rgba(0, 0, 0, 0.15);\n",
              "      filter: drop-shadow(0px 1px 2px rgba(0, 0, 0, 0.3));\n",
              "      fill: #FFFFFF;\n",
              "    }\n",
              "  </style>\n",
              "\n",
              "      <script>\n",
              "        const buttonEl =\n",
              "          document.querySelector('#df-adb64c5c-bc49-45ce-8884-4a271f16501e button.colab-df-convert');\n",
              "        buttonEl.style.display =\n",
              "          google.colab.kernel.accessAllowed ? 'block' : 'none';\n",
              "\n",
              "        async function convertToInteractive(key) {\n",
              "          const element = document.querySelector('#df-adb64c5c-bc49-45ce-8884-4a271f16501e');\n",
              "          const dataTable =\n",
              "            await google.colab.kernel.invokeFunction('convertToInteractive',\n",
              "                                                     [key], {});\n",
              "          if (!dataTable) return;\n",
              "\n",
              "          const docLinkHtml = 'Like what you see? Visit the ' +\n",
              "            '<a target=\"_blank\" href=https://colab.research.google.com/notebooks/data_table.ipynb>data table notebook</a>'\n",
              "            + ' to learn more about interactive tables.';\n",
              "          element.innerHTML = '';\n",
              "          dataTable['output_type'] = 'display_data';\n",
              "          await google.colab.output.renderOutput(dataTable, element);\n",
              "          const docLink = document.createElement('div');\n",
              "          docLink.innerHTML = docLinkHtml;\n",
              "          element.appendChild(docLink);\n",
              "        }\n",
              "      </script>\n",
              "    </div>\n",
              "  </div>\n",
              "  "
            ]
          },
          "metadata": {},
          "execution_count": 230
        }
      ]
    },
    {
      "cell_type": "code",
      "source": [
        "X3_train=X3.iloc[:len(train),:]\n",
        "X3_test=X3.iloc[len(train):,:]"
      ],
      "metadata": {
        "id": "Z9RvpMABKo1P"
      },
      "execution_count": 231,
      "outputs": []
    },
    {
      "cell_type": "code",
      "source": [
        "skewed_columns=[]\n",
        "for i in X3_train.columns:\n",
        "    if abs(X3_train[i].skew())> 0.5:\n",
        "        skewed_columns.append(i)\n",
        "\n",
        "from scipy.special import boxcox1p\n",
        "lam=0.15\n",
        "for i in skewed_columns:\n",
        "    X3_train[i]= boxcox1p(X3_train[i],lam)"
      ],
      "metadata": {
        "colab": {
          "base_uri": "https://localhost:8080/"
        },
        "id": "qFk3jqWIKo9c",
        "outputId": "c40832f0-f4d7-4572-8f02-57c48c6b300b"
      },
      "execution_count": 232,
      "outputs": [
        {
          "output_type": "stream",
          "name": "stderr",
          "text": [
            "/usr/local/lib/python3.7/dist-packages/ipykernel_launcher.py:9: SettingWithCopyWarning: \n",
            "A value is trying to be set on a copy of a slice from a DataFrame.\n",
            "Try using .loc[row_indexer,col_indexer] = value instead\n",
            "\n",
            "See the caveats in the documentation: https://pandas.pydata.org/pandas-docs/stable/user_guide/indexing.html#returning-a-view-versus-a-copy\n",
            "  if __name__ == '__main__':\n"
          ]
        }
      ]
    },
    {
      "cell_type": "code",
      "source": [
        "from scipy.special import boxcox1p\n",
        "lam=0.15\n",
        "for i in skewed_columns:\n",
        "    X3_test[i]= boxcox1p(X3_test[i],lam)"
      ],
      "metadata": {
        "colab": {
          "base_uri": "https://localhost:8080/"
        },
        "id": "I-mN9eH1KpAJ",
        "outputId": "46e8ee35-20f1-43a1-ee20-417ae2515c49"
      },
      "execution_count": 233,
      "outputs": [
        {
          "output_type": "stream",
          "name": "stderr",
          "text": [
            "/usr/local/lib/python3.7/dist-packages/ipykernel_launcher.py:4: SettingWithCopyWarning: \n",
            "A value is trying to be set on a copy of a slice from a DataFrame.\n",
            "Try using .loc[row_indexer,col_indexer] = value instead\n",
            "\n",
            "See the caveats in the documentation: https://pandas.pydata.org/pandas-docs/stable/user_guide/indexing.html#returning-a-view-versus-a-copy\n",
            "  after removing the cwd from sys.path.\n"
          ]
        }
      ]
    },
    {
      "cell_type": "code",
      "source": [
        "X3=pd.concat([X3_train,X3_test], axis=0)"
      ],
      "metadata": {
        "id": "A0j1Fwg7KpCX"
      },
      "execution_count": 234,
      "outputs": []
    },
    {
      "cell_type": "code",
      "source": [
        "dataset=(pd.concat([X2, X1, X3], axis=1))\n",
        "dataset.shape"
      ],
      "metadata": {
        "colab": {
          "base_uri": "https://localhost:8080/"
        },
        "id": "rsf_WV76K2pf",
        "outputId": "ad09185c-428f-4906-e1eb-92f994e14bce"
      },
      "execution_count": 235,
      "outputs": [
        {
          "output_type": "execute_result",
          "data": {
            "text/plain": [
              "(1456, 225)"
            ]
          },
          "metadata": {},
          "execution_count": 235
        }
      ]
    },
    {
      "cell_type": "code",
      "source": [
        "Y=test['Actual_SalePrice']\n",
        "Y = test.iloc[:len(dataset),:]\n",
        "Y = Y[\"Actual_SalePrice\"].values\n",
        "X=dataset.iloc[:len(test),:].values\n",
        "#X=dataset.values\n",
        "#Y=test['Actual_SalePrice'].values\n",
        "#y=Y.reshape(-1,1)\n",
        "#Y=np.log1p(Y)\n",
        "print(X.shape)\n",
        "print(Y.shape)"
      ],
      "metadata": {
        "colab": {
          "base_uri": "https://localhost:8080/"
        },
        "id": "QIOhSyAHK2sI",
        "outputId": "837599bd-c66d-4e0e-c995-3e6e80e64f15"
      },
      "execution_count": 236,
      "outputs": [
        {
          "output_type": "stream",
          "name": "stdout",
          "text": [
            "(1456, 225)\n",
            "(1456,)\n"
          ]
        }
      ]
    },
    {
      "cell_type": "code",
      "source": [
        "test_dataset=dataset.iloc[:,:]"
      ],
      "metadata": {
        "id": "Yvf5mgqNK2up"
      },
      "execution_count": 237,
      "outputs": []
    },
    {
      "cell_type": "code",
      "source": [
        "from sklearn.model_selection import train_test_split\n",
        "X_train, X_test, Y_train, Y_test = train_test_split(X, Y, test_size= 0.2, random_state=1)"
      ],
      "metadata": {
        "id": "3uI_7moXK2xS"
      },
      "execution_count": 238,
      "outputs": []
    },
    {
      "cell_type": "code",
      "source": [
        "from sklearn.preprocessing import RobustScaler\n",
        "sc= RobustScaler()\n",
        "X_train[:,(len(X1.columns)+len(X2.columns)):]= sc.fit_transform(X_train[:, (len(X1.columns)+len(X2.columns)):])\n",
        "X_test[:,(len(X1.columns)+len(X2.columns)):]= sc.transform(X_test[:, (len(X1.columns)+len(X2.columns)):])"
      ],
      "metadata": {
        "id": "H7kSLH_dLSMD"
      },
      "execution_count": 239,
      "outputs": []
    },
    {
      "cell_type": "code",
      "source": [
        "from sklearn.metrics import mean_absolute_error, mean_squared_error, mean_squared_log_error\n",
        "from sklearn.model_selection import GridSearchCV\n",
        "from sklearn.metrics import make_scorer"
      ],
      "metadata": {
        "id": "OcjB7mDlLWYz"
      },
      "execution_count": 240,
      "outputs": []
    },
    {
      "cell_type": "code",
      "source": [
        "def custom_function(Y_train, Y_pred):\n",
        "    RMSE=(round(mean_squared_error((Y_train),(Y_pred), squared=False), 4))\n",
        "    return RMSE\n",
        "\n",
        "scorer=make_scorer(custom_function,greater_is_better=False)"
      ],
      "metadata": {
        "id": "CATG9kM2LW7m"
      },
      "execution_count": 241,
      "outputs": []
    },
    {
      "cell_type": "code",
      "source": [
        "import xgboost as xgb\n",
        "reg = xgb.XGBRegressor()\n",
        "reg.fit(X_train, Y_train)\n",
        "Y_pred = reg.predict(X_test)\n",
        "print(reg.score(X_train,Y_train))\n",
        "print(\"RMSE: \",round(mean_squared_error((Y_test),(Y_pred), squared=False), 4))\n",
        "#print(\"MSE: \", round(mean_absolute_error(np.exp(Y_test), np.exp(Y_pred)), 4))\n"
      ],
      "metadata": {
        "colab": {
          "base_uri": "https://localhost:8080/"
        },
        "id": "gf9AI3LnLW-U",
        "outputId": "5015923a-4515-41c6-aba8-85ccf7054feb"
      },
      "execution_count": 242,
      "outputs": [
        {
          "output_type": "stream",
          "name": "stdout",
          "text": [
            "[18:49:22] WARNING: /workspace/src/objective/regression_obj.cu:152: reg:linear is now deprecated in favor of reg:squarederror.\n",
            "0.5045014038289568\n",
            "RMSE:  86275.6113\n"
          ]
        }
      ]
    },
    {
      "cell_type": "code",
      "source": [
        ""
      ],
      "metadata": {
        "id": "bU7cgl3hLXFX"
      },
      "execution_count": 242,
      "outputs": []
    }
  ]
}